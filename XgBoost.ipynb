{
 "cells": [
  {
   "cell_type": "markdown",
   "metadata": {},
   "source": [
    "# XgBoost aproach"
   ]
  },
  {
   "cell_type": "markdown",
   "metadata": {},
   "source": [
    "### Import preprocess data set"
   ]
  },
  {
   "cell_type": "code",
   "execution_count": 38,
   "metadata": {},
   "outputs": [],
   "source": [
    "from preprocessing import preprocessing_data\n",
    "\n",
    "# Import data set\n",
    "train_df_X, train_df_Y, test_df_X, test_df_Y, validate_df_X, validate_df_Y  = preprocessing_data(\"data/regularite-mensuelle-tgv-aqst.csv\")"
   ]
  },
  {
   "cell_type": "markdown",
   "metadata": {},
   "source": [
    "### Preparation of data\n"
   ]
  },
  {
   "cell_type": "code",
   "execution_count": 39,
   "metadata": {},
   "outputs": [
    {
     "name": "stdout",
     "output_type": "stream",
     "text": [
      "Train X size: (5942, 7)\n",
      "Train Y size: (5942, 125)\n",
      "Test X size: (1486, 7)\n",
      "Test Y size: (1486, 125)\n",
      "Validation X size: (726, 125)\n",
      "Validation Y size: (726, 7)\n"
     ]
    }
   ],
   "source": [
    "print(\"Train X size:\", train_df_Y.shape)\n",
    "print(\"Train Y size:\", train_df_X.shape)\n",
    "print(\"Test X size:\", test_df_Y.shape)\n",
    "print(\"Test Y size:\", test_df_X.shape)\n",
    "print(\"Validation X size:\", validate_df_X.shape)\n",
    "print(\"Validation Y size:\", validate_df_Y.shape)"
   ]
  },
  {
   "cell_type": "markdown",
   "metadata": {},
   "source": [
    "We create 2 models to predict the percentage (prct) of delay and de total delay mean"
   ]
  },
  {
   "cell_type": "code",
   "execution_count": 40,
   "metadata": {},
   "outputs": [],
   "source": [
    "# Percentage datafame\n",
    "train_df_Y_prct     = train_df_Y.iloc[:,:-1]\n",
    "test_df_Y_prct      = test_df_Y.iloc[:,:-1]\n",
    "validate_df_Y_prct  = validate_df_Y.iloc[:,:-1]\n",
    "\n",
    "# Delay total mean datafame\n",
    "train_df_Y_retard     = train_df_Y.iloc[:,-1]\n",
    "test_df_Y_retard      = test_df_Y.iloc[:,-1]\n",
    "validate_df_Y_retard  = validate_df_Y.iloc[:,-1]"
   ]
  },
  {
   "cell_type": "markdown",
   "metadata": {},
   "source": [
    "#### Try outliers taking out"
   ]
  },
  {
   "cell_type": "code",
   "execution_count": 74,
   "metadata": {},
   "outputs": [],
   "source": [
    "### Pequena prueba\n",
    "import xgboost as xgb\n",
    "\n",
    "Q1 = train_df_Y['total_retard_mean'].quantile(0.25)\n",
    "Q3 = train_df_Y['total_retard_mean'].quantile(0.75)\n",
    "IQR = Q3 - Q1    #IQR is interquartile range. \n",
    "\n",
    "filter = (train_df_Y['total_retard_mean'] >= Q1 - 1.5 * IQR) & (train_df_Y['total_retard_mean'] <= Q3 + 1.5 *IQR)\n",
    "retards_df_outliers_Y = train_df_Y.loc[filter].iloc[:,-1]\n",
    "retards_df_outliers_X = train_df_X.loc[filter]\n",
    "dtrain_reg_retard_outliers = xgb.DMatrix(retards_df_outliers_X, retards_df_outliers_Y, enable_categorical=False)"
   ]
  },
  {
   "cell_type": "code",
   "execution_count": 75,
   "metadata": {},
   "outputs": [
    {
     "name": "stdout",
     "output_type": "stream",
     "text": [
      "[0]\ttrain-rmse:0.79003\ttest-rmse:1.02156\n",
      "[5]\ttrain-rmse:0.51946\ttest-rmse:0.87559\n",
      "[10]\ttrain-rmse:0.47663\ttest-rmse:0.86862\n",
      "[15]\ttrain-rmse:0.46000\ttest-rmse:0.86686\n",
      "[20]\ttrain-rmse:0.44563\ttest-rmse:0.86495\n",
      "[25]\ttrain-rmse:0.43493\ttest-rmse:0.86491\n",
      "[30]\ttrain-rmse:0.42665\ttest-rmse:0.86631\n",
      "[35]\ttrain-rmse:0.41555\ttest-rmse:0.86633\n",
      "[40]\ttrain-rmse:0.40473\ttest-rmse:0.86063\n",
      "[45]\ttrain-rmse:0.39529\ttest-rmse:0.85791\n",
      "[50]\ttrain-rmse:0.38769\ttest-rmse:0.85926\n",
      "[55]\ttrain-rmse:0.38129\ttest-rmse:0.86014\n",
      "[60]\ttrain-rmse:0.37335\ttest-rmse:0.85929\n",
      "[65]\ttrain-rmse:0.36710\ttest-rmse:0.85568\n",
      "[70]\ttrain-rmse:0.35770\ttest-rmse:0.85652\n",
      "[75]\ttrain-rmse:0.34869\ttest-rmse:0.85719\n",
      "[80]\ttrain-rmse:0.34229\ttest-rmse:0.85716\n",
      "[84]\ttrain-rmse:0.33694\ttest-rmse:0.85667\n"
     ]
    }
   ],
   "source": [
    "# Test and Training \n",
    "params = {\"objective\": \"reg:squarederror\", \"tree_method\": \"gpu_hist\"}\n",
    "\n",
    "n = 100\n",
    "evals = [(dtrain_reg_retard_outliers, \"train\"), (dtest_reg_retard, \"test\")]\n",
    "\n",
    "model_retard2 = xgb.train(\n",
    "   params=params,\n",
    "   dtrain=dtrain_reg_retard_outliers,\n",
    "   num_boost_round=n,\n",
    "   evals=evals,\n",
    "   verbose_eval=5, # Every ten rounds\n",
    "   # Activate early stopping\n",
    "   early_stopping_rounds=20\n",
    ")"
   ]
  },
  {
   "cell_type": "code",
   "execution_count": 81,
   "metadata": {},
   "outputs": [
    {
     "name": "stdout",
     "output_type": "stream",
     "text": [
      "RMSE of the base reatard model: 0.857\n",
      "R2 of the base reatard model: -1.310\n"
     ]
    }
   ],
   "source": [
    "# validate\n",
    "from sklearn.metrics import mean_squared_error\n",
    "from sklearn.metrics import r2_score\n",
    "\n",
    "pred_retard = model_retard2.predict(dtest_reg_retard)\n",
    "\n",
    "# Root Mean Squared Error\n",
    "rmse_retard = mean_squared_error(pred_retard, test_df_Y_retard, squared=False) # True: MSE False:RMSE\n",
    "print(f\"RMSE of the base reatard model: {rmse_retard:.3f}\")\n",
    "\n",
    "r2_retatd = r2_score(pred_retard, test_df_Y_retard)\n",
    "print(f\"R2 of the base reatard model: {r2_retatd:.3f}\")"
   ]
  },
  {
   "cell_type": "markdown",
   "metadata": {},
   "source": [
    "### Prediction of total delay mean"
   ]
  },
  {
   "cell_type": "code",
   "execution_count": 41,
   "metadata": {},
   "outputs": [],
   "source": [
    "import xgboost as xgb\n",
    "\n",
    "# Create regression matrices\n",
    "dtrain_reg_retard = xgb.DMatrix(train_df_X, train_df_Y_retard, enable_categorical=False)\n",
    "dtest_reg_retard = xgb.DMatrix(test_df_X, test_df_Y_retard, enable_categorical=False)\n",
    "dval_reg_retard = xgb.DMatrix(validate_df_X, validate_df_Y_retard, enable_categorical=False)\n"
   ]
  },
  {
   "cell_type": "markdown",
   "metadata": {},
   "source": [
    "#### Train\n",
    "```num_boost_round``` Number of boosting rounds, Internally, XGBoost minimizes the loss function RMSE in small incremental rounds (more on this later)\n",
    "\n",
    "```tree_method``` To gpu_hist, which enables GPU acceleration"
   ]
  },
  {
   "cell_type": "code",
   "execution_count": 42,
   "metadata": {},
   "outputs": [],
   "source": [
    "# Define hyperparameters\n",
    "params = {\"objective\": \"reg:squarederror\", \"tree_method\": \"gpu_hist\"}\n",
    "\n",
    "n = 100\n",
    "model_retard = xgb.train(\n",
    "   params=params,\n",
    "   dtrain=dtrain_reg_retard,\n",
    "   num_boost_round=n,\n",
    ")"
   ]
  },
  {
   "cell_type": "markdown",
   "metadata": {},
   "source": [
    "#### Test"
   ]
  },
  {
   "cell_type": "code",
   "execution_count": 43,
   "metadata": {},
   "outputs": [
    {
     "name": "stdout",
     "output_type": "stream",
     "text": [
      "RMSE of the base reatard model: 0.815\n",
      "R2 of the base reatard model: -0.205\n"
     ]
    }
   ],
   "source": [
    "from sklearn.metrics import mean_squared_error\n",
    "from sklearn.metrics import r2_score\n",
    "\n",
    "pred_retard = model_retard.predict(dtest_reg_retard)\n",
    "\n",
    "# Root Mean Squared Error\n",
    "rmse_retard = mean_squared_error(pred_retard, test_df_Y_retard, squared=False) # True: MSE False:RMSE\n",
    "print(f\"RMSE of the base reatard model: {rmse_retard:.3f}\")\n",
    "\n",
    "r2_retatd = r2_score(pred_retard, test_df_Y_retard)\n",
    "print(f\"R2 of the base reatard model: {r2_retatd:.3f}\")"
   ]
  },
  {
   "cell_type": "code",
   "execution_count": 50,
   "metadata": {},
   "outputs": [
    {
     "name": "stdout",
     "output_type": "stream",
     "text": [
      "RMSE of the base reatard model: 1.093\n",
      "R2 of the base reatard model: -2.426\n"
     ]
    }
   ],
   "source": [
    "# validate\n",
    "from sklearn.metrics import mean_squared_error\n",
    "from sklearn.metrics import r2_score\n",
    "\n",
    "pred_retard = model_retard.predict(dval_reg_retard)\n",
    "\n",
    "# Root Mean Squared Error\n",
    "rmse_retard = mean_squared_error(pred_retard, validate_df_Y_retard, squared=False) # True: MSE False:RMSE\n",
    "print(f\"RMSE of the base reatard model: {rmse_retard:.3f}\")\n",
    "\n",
    "r2_retatd = r2_score(pred_retard, validate_df_Y_retard)\n",
    "print(f\"R2 of the base reatard model: {r2_retatd:.3f}\")"
   ]
  },
  {
   "cell_type": "code",
   "execution_count": 49,
   "metadata": {},
   "outputs": [
    {
     "data": {
      "text/plain": [
       "-0.22162527668269832"
      ]
     },
     "execution_count": 49,
     "metadata": {},
     "output_type": "execute_result"
    }
   ],
   "source": [
    "error = pred_retard -validate_df_Y_retard\n",
    "sum(error)/len(error)"
   ]
  },
  {
   "cell_type": "code",
   "execution_count": 52,
   "metadata": {},
   "outputs": [
    {
     "data": {
      "image/png": "[encoded data removed]",
      "text/plain": [
       "<Figure size 720x504 with 1 Axes>"
      ]
     },
     "metadata": {
      "needs_background": "light"
     },
     "output_type": "display_data"
    }
   ],
   "source": [
    "import matplotlib.pyplot as plt\n",
    "\n",
    "plt.figure(figsize=(10, 7))\n",
    "plt.scatter(pred_retard, validate_df_Y_retard)\n",
    "plt.plot([validate_df_Y_retard.min(), validate_df_Y_retard.max()], [validate_df_Y_retard.min(), validate_df_Y_retard.max()], color='red', linewidth=2)\n",
    "plt.xlabel('True Values')\n",
    "plt.ylabel('Predicted Values')\n",
    "plt.title('True vs Validate Values')\n",
    "plt.show()"
   ]
  },
  {
   "cell_type": "markdown",
   "metadata": {},
   "source": [
    "#### Using Test Sets During Training\n",
    "\n",
    "We will use evaluation arrays that allow us to see model performance as it gets improved incrementally across boosting rounds."
   ]
  },
  {
   "cell_type": "code",
   "execution_count": 53,
   "metadata": {},
   "outputs": [
    {
     "name": "stdout",
     "output_type": "stream",
     "text": [
      "[0]\ttrain-rmse:0.96613\ttest-rmse:1.01978\n",
      "[10]\ttrain-rmse:0.67329\ttest-rmse:0.81101\n",
      "[20]\ttrain-rmse:0.62315\ttest-rmse:0.80685\n",
      "[30]\ttrain-rmse:0.58341\ttest-rmse:0.80150\n",
      "[40]\ttrain-rmse:0.54552\ttest-rmse:0.79237\n",
      "[50]\ttrain-rmse:0.51797\ttest-rmse:0.79563\n",
      "[60]\ttrain-rmse:0.48769\ttest-rmse:0.80121\n",
      "[70]\ttrain-rmse:0.46051\ttest-rmse:0.80721\n",
      "[80]\ttrain-rmse:0.43564\ttest-rmse:0.81415\n",
      "[90]\ttrain-rmse:0.41194\ttest-rmse:0.81187\n",
      "[99]\ttrain-rmse:0.40026\ttest-rmse:0.81522\n"
     ]
    }
   ],
   "source": [
    "# Test and Training \n",
    "params = {\"objective\": \"reg:squarederror\", \"tree_method\": \"gpu_hist\"}\n",
    "\n",
    "n = 100\n",
    "evals = [(dtrain_reg_retard, \"train\"), (dtest_reg_retard, \"test\")]\n",
    "\n",
    "model_retard2 = xgb.train(\n",
    "   params=params,\n",
    "   dtrain=dtrain_reg_retard,\n",
    "   num_boost_round=n,\n",
    "   evals=evals,\n",
    "   verbose_eval=10 # Every ten rounds\n",
    ")"
   ]
  },
  {
   "cell_type": "markdown",
   "metadata": {},
   "source": [
    "Early stopping forces XGBoost to watch the validation loss, and if it stops improving for a specified number of rounds, it automatically stops training."
   ]
  },
  {
   "cell_type": "code",
   "execution_count": 57,
   "metadata": {},
   "outputs": [
    {
     "name": "stdout",
     "output_type": "stream",
     "text": [
      "[0]\ttrain-rmse:0.96613\ttest-rmse:1.01978\n",
      "[5]\ttrain-rmse:0.74287\ttest-rmse:0.83778\n",
      "[10]\ttrain-rmse:0.67329\ttest-rmse:0.81101\n",
      "[15]\ttrain-rmse:0.64007\ttest-rmse:0.80793\n",
      "[20]\ttrain-rmse:0.62315\ttest-rmse:0.80685\n",
      "[25]\ttrain-rmse:0.60915\ttest-rmse:0.80590\n",
      "[30]\ttrain-rmse:0.58341\ttest-rmse:0.80150\n",
      "[35]\ttrain-rmse:0.56617\ttest-rmse:0.80050\n",
      "[40]\ttrain-rmse:0.54552\ttest-rmse:0.79237\n",
      "[45]\ttrain-rmse:0.53866\ttest-rmse:0.79068\n",
      "[50]\ttrain-rmse:0.51797\ttest-rmse:0.79563\n",
      "[55]\ttrain-rmse:0.50321\ttest-rmse:0.79662\n",
      "[60]\ttrain-rmse:0.48769\ttest-rmse:0.80121\n",
      "[64]\ttrain-rmse:0.47581\ttest-rmse:0.80604\n"
     ]
    }
   ],
   "source": [
    "# Test and Training \n",
    "params = {\"objective\": \"reg:squarederror\", \"tree_method\": \"gpu_hist\"}\n",
    "\n",
    "n = 100\n",
    "evals = [(dtrain_reg_retard, \"train\"), (dtest_reg_retard, \"test\")]\n",
    "\n",
    "model_retard2 = xgb.train(\n",
    "   params=params,\n",
    "   dtrain=dtrain_reg_retard,\n",
    "   num_boost_round=n,\n",
    "   evals=evals,\n",
    "   verbose_eval=5, # Every ten rounds\n",
    "   # Activate early stopping\n",
    "   early_stopping_rounds=20\n",
    ")"
   ]
  },
  {
   "cell_type": "code",
   "execution_count": 58,
   "metadata": {},
   "outputs": [
    {
     "name": "stdout",
     "output_type": "stream",
     "text": [
      "RMSE of the base reatard model: 0.807\n",
      "R2 of the base reatard model: -0.353\n"
     ]
    }
   ],
   "source": [
    "from sklearn.metrics import mean_squared_error\n",
    "from sklearn.metrics import r2_score\n",
    "\n",
    "pred_retard2 = model_retard2.predict(dtest_reg_retard)\n",
    "\n",
    "# Root Mean Squared Error\n",
    "rmse_retard2 = mean_squared_error(pred_retard2, test_df_Y_retard, squared=False) # True: MSE False:RMSE\n",
    "print(f\"RMSE of the base reatard model: {rmse_retard2:.3f}\")\n",
    "\n",
    "r2_retatd2 = r2_score(pred_retard2, test_df_Y_retard)\n",
    "print(f\"R2 of the base reatard model: {r2_retatd2:.3f}\")"
   ]
  },
  {
   "cell_type": "code",
   "execution_count": 60,
   "metadata": {},
   "outputs": [
    {
     "name": "stdout",
     "output_type": "stream",
     "text": [
      "RMSE of the base reatard model: 1.082\n",
      "R2 of the base reatard model: -2.777\n"
     ]
    }
   ],
   "source": [
    "from sklearn.metrics import mean_squared_error\n",
    "from sklearn.metrics import r2_score\n",
    "\n",
    "pred_retard2 = model_retard2.predict(dval_reg_retard)\n",
    "\n",
    "# Root Mean Squared Error\n",
    "rmse_retard2 = mean_squared_error(pred_retard2, validate_df_Y_retard, squared=False) # True: MSE False:RMSE\n",
    "print(f\"RMSE of the base reatard model: {rmse_retard2:.3f}\")\n",
    "\n",
    "r2_retatd2 = r2_score(pred_retard2, validate_df_Y_retard)\n",
    "print(f\"R2 of the base reatard model: {r2_retatd2:.3f}\")"
   ]
  },
  {
   "cell_type": "markdown",
   "metadata": {},
   "source": [
    "#### Add Cross-Validation"
   ]
  },
  {
   "cell_type": "code",
   "execution_count": 37,
   "metadata": {},
   "outputs": [],
   "source": [
    "params = {\"objective\": \"reg:squarederror\", \"tree_method\": \"gpu_hist\"}\n",
    "\n",
    "n = 1000\n",
    "results_retard = xgb.cv(\n",
    "   params, dtrain_reg_retard,\n",
    "   num_boost_round=n,\n",
    "   nfold=5,\n",
    "   early_stopping_rounds=20\n",
    ")"
   ]
  },
  {
   "cell_type": "code",
   "execution_count": 42,
   "metadata": {},
   "outputs": [
    {
     "data": {
      "text/html": [
       "<div>\n",
       "<style scoped>\n",
       "    .dataframe tbody tr th:only-of-type {\n",
       "        vertical-align: middle;\n",
       "    }\n",
       "\n",
       "    .dataframe tbody tr th {\n",
       "        vertical-align: top;\n",
       "    }\n",
       "\n",
       "    .dataframe thead th {\n",
       "        text-align: right;\n",
       "    }\n",
       "</style>\n",
       "<table border=\"1\" class=\"dataframe\">\n",
       "  <thead>\n",
       "    <tr style=\"text-align: right;\">\n",
       "      <th></th>\n",
       "      <th>train-rmse-mean</th>\n",
       "      <th>train-rmse-std</th>\n",
       "      <th>test-rmse-mean</th>\n",
       "      <th>test-rmse-std</th>\n",
       "    </tr>\n",
       "  </thead>\n",
       "  <tbody>\n",
       "    <tr>\n",
       "      <th>0</th>\n",
       "      <td>0.960314</td>\n",
       "      <td>0.016591</td>\n",
       "      <td>0.971755</td>\n",
       "      <td>0.095082</td>\n",
       "    </tr>\n",
       "    <tr>\n",
       "      <th>1</th>\n",
       "      <td>0.867578</td>\n",
       "      <td>0.016854</td>\n",
       "      <td>0.890658</td>\n",
       "      <td>0.097126</td>\n",
       "    </tr>\n",
       "    <tr>\n",
       "      <th>2</th>\n",
       "      <td>0.809208</td>\n",
       "      <td>0.016901</td>\n",
       "      <td>0.845839</td>\n",
       "      <td>0.097485</td>\n",
       "    </tr>\n",
       "    <tr>\n",
       "      <th>3</th>\n",
       "      <td>0.770836</td>\n",
       "      <td>0.015004</td>\n",
       "      <td>0.819961</td>\n",
       "      <td>0.097484</td>\n",
       "    </tr>\n",
       "    <tr>\n",
       "      <th>4</th>\n",
       "      <td>0.742078</td>\n",
       "      <td>0.014459</td>\n",
       "      <td>0.805543</td>\n",
       "      <td>0.097482</td>\n",
       "    </tr>\n",
       "  </tbody>\n",
       "</table>\n",
       "</div>"
      ],
      "text/plain": [
       "   train-rmse-mean  train-rmse-std  test-rmse-mean  test-rmse-std\n",
       "0         0.960314        0.016591        0.971755       0.095082\n",
       "1         0.867578        0.016854        0.890658       0.097126\n",
       "2         0.809208        0.016901        0.845839       0.097485\n",
       "3         0.770836        0.015004        0.819961       0.097484\n",
       "4         0.742078        0.014459        0.805543       0.097482"
      ]
     },
     "metadata": {},
     "output_type": "display_data"
    },
    {
     "name": "stdout",
     "output_type": "stream",
     "text": [
      "CV best score 0.783035626238808\n"
     ]
    }
   ],
   "source": [
    "display(results_retard.head())\n",
    "print(\"CV best score\", results_retard['test-rmse-mean'].min())"
   ]
  },
  {
   "cell_type": "markdown",
   "metadata": {},
   "source": [
    "#### Plot results"
   ]
  },
  {
   "cell_type": "code",
   "execution_count": 76,
   "metadata": {},
   "outputs": [
    {
     "data": {
      "image/png": "[encoded data removed]",
      "text/plain": [
       "<Figure size 720x504 with 1 Axes>"
      ]
     },
     "metadata": {
      "needs_background": "light"
     },
     "output_type": "display_data"
    }
   ],
   "source": [
    "import matplotlib.pyplot as plt\n",
    "\n",
    "plt.figure(figsize=(10, 7))\n",
    "plt.scatter(pred_retard2, test_df_Y_retard)\n",
    "plt.plot([test_df_Y_retard.min(), test_df_Y_retard.max()], [test_df_Y_retard.min(), test_df_Y_retard.max()], color='red', linewidth=2)\n",
    "plt.xlabel('True Values')\n",
    "plt.ylabel('Predicted Values')\n",
    "plt.title('True vs Predicted Values')\n",
    "plt.show()"
   ]
  },
  {
   "cell_type": "code",
   "execution_count": 65,
   "metadata": {},
   "outputs": [
    {
     "data": {
      "image/png": "[encoded data removed]",
      "text/plain": [
       "<Figure size 720x360 with 1 Axes>"
      ]
     },
     "metadata": {
      "needs_background": "light"
     },
     "output_type": "display_data"
    },
    {
     "name": "stdout",
     "output_type": "stream",
     "text": [
      "Values that are have error higher than 3: 12 of 1486\n"
     ]
    }
   ],
   "source": [
    "residuals = pred_retard2 - test_df_Y_retard\n",
    "n_cut = 3\n",
    "residuals_cut = residuals[abs(residuals)<n_cut]\n",
    "\n",
    "plt.figure(figsize=(10, 5))\n",
    "plt.hist(residuals_cut, bins=20)\n",
    "plt.xlabel('Residual')\n",
    "plt.ylabel('Frequency')\n",
    "plt.title('Distribution of Residuals')\n",
    "plt.show()\n",
    "print(f\"Values that are have error higher than {n_cut}:\", sum(abs(residuals)>n_cut), \"of\", residuals.size)"
   ]
  },
  {
   "cell_type": "markdown",
   "metadata": {},
   "source": [
    "#### GridSearch"
   ]
  },
  {
   "cell_type": "code",
   "execution_count": 89,
   "metadata": {},
   "outputs": [
    {
     "name": "stdout",
     "output_type": "stream",
     "text": [
      "Best hyperparameters: {'colsample_bytree': 0.5, 'learning_rate': 0.1, 'max_depth': 4, 'n_estimators': 300, 'subsample': 0.5}\n"
     ]
    }
   ],
   "source": [
    "from sklearn.model_selection import GridSearchCV\n",
    "import pandas as pd\n",
    "\n",
    "# Define the hyperparameter grid\n",
    "param_grid = {\n",
    "    'n_estimators': [100, 200, 300],\n",
    "    'max_depth': [3, 4, 5],\n",
    "    'learning_rate': [0.01, 0.1, 0.2],\n",
    "    'subsample': [0.5, 0.8, 1],\n",
    "    'colsample_bytree': [0.5, 0.8, 1]\n",
    "}\n",
    "\n",
    "# Create an instance of XGBRegressor\n",
    "xgb_model = xgb.XGBRegressor(objective=\"reg:squarederror\", tree_method =\"gpu_hist\")\n",
    "\n",
    "# Create the grid search object\n",
    "grid_search_retard = GridSearchCV(estimator=xgb_model, param_grid=param_grid, cv=5, scoring='neg_mean_squared_error', verbose = 0)\n",
    "\n",
    "# Fit the grid search object to the data\n",
    "grid_search_retard.fit(train_df_X.replace({True: 1, False: 0}), pd.to_numeric(train_df_Y_retard))\n",
    "\n",
    "# Get the best combination of hyperparameters\n",
    "best_params_retard = grid_search_retard.best_params_\n",
    "print(\"Best hyperparameters:\", best_params_retard)\n"
   ]
  },
  {
   "cell_type": "markdown",
   "metadata": {},
   "source": [
    "Values that are have error higher than 3: 12 of 1486\n",
    "Best hyperparameters: {'colsample_bytree': 0.5, 'learning_rate': 0.1, 'max_depth': 4, 'n_estimators': 300, 'subsample': 0.5}"
   ]
  },
  {
   "cell_type": "code",
   "execution_count": 92,
   "metadata": {},
   "outputs": [
    {
     "name": "stdout",
     "output_type": "stream",
     "text": [
      "Mean Squared Error: 0.8420283280124228\n",
      "R2 of the base reatard model: -0.943\n"
     ]
    }
   ],
   "source": [
    "from sklearn.metrics import mean_squared_error\n",
    "from sklearn.metrics import r2_score\n",
    "\n",
    "# Train the model with the best hyperparameters\n",
    "best_xgb_model = xgb.XGBRegressor(**best_params_retard)\n",
    "best_xgb_model.fit(train_df_X.replace({True: 1, False: 0}), train_df_Y_retard)\n",
    "\n",
    "# Make predictions on the test data\n",
    "pred_retard3 = best_xgb_model.predict(test_df_X)\n",
    "\n",
    "# Evaluate the model's performance\n",
    "rmse3 = mean_squared_error(pred_retard3, test_df_Y_retard, squared=False)\n",
    "print(\"Mean Squared Error:\", rmse3)\n",
    "\n",
    "r2_retatd3 = r2_score(pred_retard3, test_df_Y_retard)\n",
    "print(f\"R2 of the base reatard model: {r2_retatd3:.3f}\")"
   ]
  },
  {
   "cell_type": "code",
   "execution_count": 141,
   "metadata": {},
   "outputs": [
    {
     "name": "stdout",
     "output_type": "stream",
     "text": [
      "Mean Squared Error: 0.8044187665335067\n",
      "R2 of the base reatard model: -0.469\n"
     ]
    }
   ],
   "source": [
    "from sklearn.metrics import mean_squared_error\n",
    "from sklearn.metrics import r2_score\n",
    "\n",
    "# Train the model with the best hyperparameters\n",
    "best_xgb_model = xgb.XGBRegressor(colsample_bytree= 0.5, learning_rate=0.1, max_depth= 4, n_estimators= 300, subsample= 0.5)\n",
    "best_xgb_model.fit(train_df_X.replace({True: 1, False: 0}), train_df_Y_retard)\n",
    "\n",
    "# Make predictions on the test data\n",
    "pred_retard3 = best_xgb_model.predict(test_df_X)\n",
    "\n",
    "# Evaluate the model's performance\n",
    "rmse3 = mean_squared_error(pred_retard3, test_df_Y_retard, squared=False)\n",
    "print(\"Mean Squared Error:\", rmse3)\n",
    "\n",
    "r2_retatd3 = r2_score(pred_retard3, test_df_Y_retard)\n",
    "print(f\"R2 of the base reatard model: {r2_retatd3:.3f}\")"
   ]
  },
  {
   "cell_type": "code",
   "execution_count": 61,
   "metadata": {},
   "outputs": [
    {
     "name": "stdout",
     "output_type": "stream",
     "text": [
      "Mean Squared Error: 1.0488506718403732\n",
      "R2 of the base reatard model: -2.926\n"
     ]
    }
   ],
   "source": [
    "from sklearn.metrics import mean_squared_error\n",
    "from sklearn.metrics import r2_score\n",
    "\n",
    "# Train the model with the best hyperparameters\n",
    "best_xgb_model = xgb.XGBRegressor(colsample_bytree= 0.5, learning_rate=0.1, max_depth= 4, n_estimators= 300, subsample= 0.5)\n",
    "best_xgb_model.fit(train_df_X.replace({True: 1, False: 0}), train_df_Y_retard)\n",
    "\n",
    "# Make predictions on the test data\n",
    "pred_retard3 = best_xgb_model.predict(validate_df_X)\n",
    "\n",
    "# Evaluate the model's performance\n",
    "rmse3 = mean_squared_error(pred_retard3, validate_df_Y_retard, squared=False)\n",
    "print(\"Mean Squared Error:\", rmse3)\n",
    "\n",
    "r2_retatd3 = r2_score(pred_retard3, validate_df_Y_retard)\n",
    "print(f\"R2 of the base reatard model: {r2_retatd3:.3f}\")"
   ]
  },
  {
   "cell_type": "code",
   "execution_count": 93,
   "metadata": {},
   "outputs": [
    {
     "data": {
      "image/png": "[encoded data removed]",
      "text/plain": [
       "<Figure size 720x504 with 1 Axes>"
      ]
     },
     "metadata": {
      "needs_background": "light"
     },
     "output_type": "display_data"
    }
   ],
   "source": [
    "import matplotlib.pyplot as plt\n",
    "\n",
    "plt.figure(figsize=(10, 7))\n",
    "plt.scatter(pred_retard3, test_df_Y_retard)\n",
    "plt.plot([test_df_Y_retard.min(), test_df_Y_retard.max()], [test_df_Y_retard.min(), test_df_Y_retard.max()], color='red', linewidth=2)\n",
    "plt.xlabel('True Values')\n",
    "plt.ylabel('Predicted Values')\n",
    "plt.title('True vs Predicted Values')\n",
    "plt.show()"
   ]
  },
  {
   "cell_type": "code",
   "execution_count": 94,
   "metadata": {},
   "outputs": [
    {
     "data": {
      "image/png": "[encoded data removed]",
      "text/plain": [
       "<Figure size 720x360 with 1 Axes>"
      ]
     },
     "metadata": {
      "needs_background": "light"
     },
     "output_type": "display_data"
    },
    {
     "name": "stdout",
     "output_type": "stream",
     "text": [
      "Values that are have error higher than 3: 14 of 1486\n"
     ]
    }
   ],
   "source": [
    "residuals = pred_retard3 - test_df_Y_retard\n",
    "n_cut = 3\n",
    "residuals_cut = residuals[abs(residuals)<n_cut]\n",
    "\n",
    "plt.figure(figsize=(10, 5))\n",
    "plt.hist(residuals_cut, bins=20)\n",
    "plt.xlabel('Residual')\n",
    "plt.ylabel('Frequency')\n",
    "plt.title('Distribution of Residuals')\n",
    "plt.show()\n",
    "print(f\"Values that are have error higher than {n_cut}:\", sum(abs(residuals)>n_cut), \"of\", residuals.size)"
   ]
  },
  {
   "cell_type": "markdown",
   "metadata": {},
   "source": [
    "Combine XGBoost with other models to create an ensemble for better performance."
   ]
  },
  {
   "cell_type": "code",
   "execution_count": 96,
   "metadata": {},
   "outputs": [
    {
     "name": "stdout",
     "output_type": "stream",
     "text": [
      "Mean Squared Error: 0.8420283280124228\n",
      "R2 of the base reatard model: -0.943\n"
     ]
    }
   ],
   "source": [
    "from sklearn.ensemble import RandomForestRegressor, StackingRegressor\n",
    "from sklearn.linear_model import Ridge\n",
    "\n",
    "# Create estimators for stacking\n",
    "estimators = [\n",
    "    ('xgb', xgb.XGBRegressor(**best_params_retard)),\n",
    "    ('rf', RandomForestRegressor())\n",
    "]\n",
    "\n",
    "# Create the stacking regressor\n",
    "stacking_regressor = StackingRegressor(estimators=estimators, final_estimator=Ridge())\n",
    "\n",
    "# Fit the stacking regressor\n",
    "stacking_regressor.fit(train_df_X.replace({True: 1, False: 0}), train_df_Y_retard)\n",
    "\n",
    "# Make predictions on the test data\n",
    "pred_retard4 = best_xgb_model.predict(test_df_X)\n",
    "\n",
    "# Evaluate the model's performance\n",
    "rmse4 = mean_squared_error(pred_retard4, test_df_Y_retard, squared=False)\n",
    "print(\"Mean Squared Error:\", rmse4)\n",
    "\n",
    "r2_retatd4 = r2_score(pred_retard4, test_df_Y_retard)\n",
    "print(f\"R2 of the base reatard model: {r2_retatd4:.3f}\")"
   ]
  },
  {
   "cell_type": "markdown",
   "metadata": {},
   "source": [
    "### Prediction of porcentage"
   ]
  },
  {
   "cell_type": "code",
   "execution_count": 63,
   "metadata": {},
   "outputs": [],
   "source": [
    "import xgboost as xgb\n",
    "import numpy as np\n",
    "from sklearn.metrics import r2_score\n",
    "from sklearn.multioutput import MultiOutputRegressor\n",
    "from sklearn.metrics import mean_absolute_error\n",
    "\n",
    "# Create a MultiOutputRegressor object\n",
    "multioutputregressor = MultiOutputRegressor(xgb.XGBRegressor(objective=\"reg:squarederror\", tree_method =\"gpu_hist\", \n",
    "                                                             eval_metric  = mean_absolute_error))\n",
    "\n",
    "# Fit the model to the training data\n",
    "_ = multioutputregressor.fit(train_df_X.replace({True: 1, False: 0}), train_df_Y_prct)"
   ]
  },
  {
   "cell_type": "code",
   "execution_count": 118,
   "metadata": {},
   "outputs": [
    {
     "name": "stdout",
     "output_type": "stream",
     "text": [
      "Root mean square errors:\n",
      "prct_cause_externe                      0.155709\n",
      "prct_cause_infra                        0.155624\n",
      "prct_cause_gestion_trafic               0.130990\n",
      "prct_cause_materiel_roulant             0.141289\n",
      "prct_cause_gestion_gare                 0.081686\n",
      "prct_cause_prise_en_charge_voyageurs    0.100227\n",
      "dtype: float64\n",
      "Average R-squared: 0.10287310352398989\n"
     ]
    }
   ],
   "source": [
    "# predicting\n",
    "y_pred_prct = multioutputregressor.predict(test_df_X)\n",
    "print(\"Root mean square errors:\")\n",
    "print(np.sqrt(np.mean((y_pred_prct - test_df_Y_prct)**2, axis=0)))\n",
    "\n",
    "# Calculate the R-squared for the MultiOutputRegressor\n",
    "output_r2_scores = []\n",
    "for i in range(test_df_Y_prct.shape[1]):\n",
    "    output_r2_scores.append(r2_score(test_df_Y_prct.iloc[:, i], y_pred_prct[:, i]))\n",
    "\n",
    "average_r2_score = np.mean(output_r2_scores)\n",
    "# Print the R-squared\n",
    "print(\"Average R-squared:\", average_r2_score)"
   ]
  },
  {
   "cell_type": "code",
   "execution_count": 65,
   "metadata": {},
   "outputs": [
    {
     "name": "stdout",
     "output_type": "stream",
     "text": [
      "Root mean square errors:\n",
      "prct_cause_externe                      0.143406\n",
      "prct_cause_infra                        0.123330\n",
      "prct_cause_gestion_trafic               0.132165\n",
      "prct_cause_materiel_roulant             0.121584\n",
      "prct_cause_gestion_gare                 0.079101\n",
      "prct_cause_prise_en_charge_voyageurs    0.090292\n",
      "dtype: float64\n",
      "Total 0.6898774557654608\n",
      "Average R-squared: 0.021551139334433256\n"
     ]
    }
   ],
   "source": [
    "# validate\n",
    "y_pred_prct = multioutputregressor.predict(validate_df_X)\n",
    "print(\"Root mean square errors:\")\n",
    "print(np.sqrt(np.mean((y_pred_prct - validate_df_Y_prct)**2, axis=0)))\n",
    "print(\"Total: \", sum(np.sqrt(np.mean((y_pred_prct - validate_df_Y_prct)**2, axis=0))))\n",
    "\n",
    "# Calculate the R-squared for the MultiOutputRegressor\n",
    "output_r2_scores = []\n",
    "for i in range(test_df_Y_prct.shape[1]):\n",
    "    output_r2_scores.append(r2_score(validate_df_Y_prct.iloc[:, i], y_pred_prct[:, i]))\n",
    "\n",
    "average_r2_score = np.mean(output_r2_scores)\n",
    "# Print the R-squared\n",
    "print(\"Average R-squared:\", average_r2_score)"
   ]
  },
  {
   "cell_type": "markdown",
   "metadata": {},
   "source": [
    "### Grid search"
   ]
  },
  {
   "cell_type": "code",
   "execution_count": 4,
   "metadata": {},
   "outputs": [],
   "source": [
    "from sklearn.model_selection import GridSearchCV\n",
    "from sklearn.multioutput import MultiOutputRegressor\n",
    "from sklearn.metrics import mean_absolute_error\n",
    "import xgboost as xgb\n",
    "\n",
    "# define the grid of parameters to try\n",
    "seed = 100\n",
    "n_estimators = 300\n",
    "learning_rate = 0.1\n",
    "gamma = 0.1\n",
    "subsample = 0.5\n",
    "colsample_bytree = 0.5\n",
    "reg_alpha = 1\n",
    "reg_lambda = 1\n",
    "silent = False\n",
    "\n",
    "parameters = {}\n",
    "parameters['seed'] = seed\n",
    "parameters['n_estimators'] = n_estimators\n",
    "parameters['learning_rate'] = learning_rate\n",
    "parameters['gamma'] = gamma\n",
    "parameters['colsample_bytree'] = colsample_bytree\n",
    "parameters['reg_alpha'] = reg_alpha\n",
    "parameters['reg_lambda'] = reg_lambda\n",
    "parameters['silent'] = silent\n",
    "\n",
    "scores = []\n",
    "\n",
    "cv_params = {\n",
    "    'max_depth': [5,6,7],\n",
    "    'min_child_weight': [5,7,9],\n",
    "    'learning_rate': [0.01, 0.1, 0.2],\n",
    "    \"max_leaves\": [1,3,5]\n",
    "}\n",
    "\n",
    "cv_params = {\n",
    "    \"estimator__max_leaves\": [1,3,5],\n",
    "    'estimator__max_depth': [4, 5, 6],\n",
    "    'estimator__learning_rate': [0.5, 0.1, 0.2],\n",
    "    'estimator__min_child_weight': [5,7,9],\n",
    "}\n",
    "# Set no message\n",
    "xgb.set_config(verbosity=0)\n",
    "# create the MultiOutputRegressor model with XGBRegressor\n",
    "multioutputregressor = MultiOutputRegressor(xgb.XGBRegressor(objective=\"reg:squarederror\", \n",
    "                                                             tree_method =\"gpu_hist\",\n",
    "                                                             eval_metric  = mean_absolute_error,\n",
    "                                                             n_estimators = n_estimators,\n",
    "                                                             gamma = gamma,\n",
    "                                                             subsample = subsample,\n",
    "                                                             colsample_bytree = colsample_bytree,\n",
    "                                                             reg_alpha = reg_alpha,\n",
    "                                                             reg_lambda = reg_lambda,\n",
    "                                                             silent = silent))\n",
    "\n",
    "# create the GridSearchCV object\n",
    "grid_search =  GridSearchCV(multioutputregressor,\n",
    "                    param_grid = cv_params,\n",
    "                    scoring = \"neg_mean_squared_error\",\n",
    "                    cv = 5,\n",
    "                    verbose = 0\n",
    ")\n",
    "\n",
    "# fit the model\n",
    "grid_search.fit(train_df_X.replace({True: 1, False: 0}), train_df_Y_prct)\n",
    "\n",
    "# get the best model\n",
    "best_model_prct = grid_search.best_estimator_"
   ]
  },
  {
   "cell_type": "markdown",
   "metadata": {},
   "source": [
    "MultiOutputRegressor(estimator=XGBRegressor(base_score=None, booster=None,\n",
    "                                            callbacks=None,\n",
    "                                            colsample_bylevel=None,\n",
    "                                            colsample_bynode=None,\n",
    "                                            colsample_bytree=0.5,\n",
    "                                            early_stopping_rounds=None,\n",
    "                                            enable_categorical=False,\n",
    "                                            eval_metric=<function mean_absolute_error at 0x000001A6754ED9D0>,\n",
    "                                            feature_types=None, gamma=0.1,\n",
    "                                            gpu_id=None, grow_policy=None,\n",
    "                                            importance_type=None,\n",
    "                                            interaction_constraints=None,\n",
    "                                            learning_rate=0.2, max_bin=None,\n",
    "                                            max_cat_threshold=None,\n",
    "                                            max_cat_to_onehot=None,\n",
    "                                            max_delta_step=None, max_depth=4,\n",
    "                                            max_leaves=5, min_child_weight=9,\n",
    "                                            missing=nan,\n",
    "                                            monotone_constraints=None,\n",
    "                                            n_estimators=300, n_jobs=None,\n",
    "                                            num_parallel_tree=None,\n",
    "                                            predictor=None, random_state=None, ...))"
   ]
  },
  {
   "cell_type": "code",
   "execution_count": 29,
   "metadata": {},
   "outputs": [
    {
     "name": "stdout",
     "output_type": "stream",
     "text": [
      "Root mean square errors:\n",
      "prct_cause_externe                      0.153099\n",
      "prct_cause_infra                        0.150303\n",
      "prct_cause_gestion_trafic               0.136140\n",
      "prct_cause_materiel_roulant             0.124956\n",
      "prct_cause_gestion_gare                 0.074423\n",
      "prct_cause_prise_en_charge_voyageurs    0.102240\n",
      "dtype: float64\n",
      "Average R-squared: 0.15465488435585314\n"
     ]
    }
   ],
   "source": [
    "from sklearn.metrics import mean_squared_error\n",
    "from sklearn.metrics import r2_score\n",
    "\n",
    "# Make predictions on the test data\n",
    "y_pred_prct2 = best_model_prct.predict(test_df_X)\n",
    "\n",
    "print(\"Root mean square errors:\")\n",
    "print(np.sqrt(np.mean((y_pred_prct2 - test_df_Y_prct)**2, axis=0)))\n",
    "\n",
    "# Calculate the R-squared for the MultiOutputRegressor\n",
    "output_r2_scores = []\n",
    "for i in range(test_df_Y_prct.shape[1]):\n",
    "    output_r2_scores.append(r2_score(test_df_Y_prct.iloc[:, i], y_pred_prct2[:, i]))\n",
    "\n",
    "average_r2_score2 = np.mean(output_r2_scores)\n",
    "# Print the R-squared\n",
    "print(\"Average R-squared:\", average_r2_score2)"
   ]
  },
  {
   "cell_type": "code",
   "execution_count": 142,
   "metadata": {},
   "outputs": [],
   "source": [
    "import xgboost as xgb\n",
    "import numpy as np\n",
    "from sklearn.metrics import r2_score\n",
    "from sklearn.multioutput import MultiOutputRegressor\n",
    "from sklearn.metrics import mean_absolute_error\n",
    "\n",
    "# Create a MultiOutputRegressor object\n",
    "# multioutputregressor = MultiOutputRegressor(xgb.XGBRegressor(objective=\"reg:squarederror\", tree_method =\"gpu_hist\", \n",
    "#                                                              eval_metric  = mean_absolute_error))\n",
    "best_model_prct = MultiOutputRegressor(xgb.XGBRegressor(base_score=None, booster=None,\n",
    "                                                              objective=\"reg:squarederror\",\n",
    "                                                              tree_method =\"gpu_hist\",\n",
    "                                                            callbacks=None,\n",
    "                                                            colsample_bylevel=None,\n",
    "                                                            colsample_bynode=None,\n",
    "                                                            colsample_bytree=0.5,\n",
    "                                                            early_stopping_rounds=None,\n",
    "                                                            enable_categorical=False,\n",
    "                                                            eval_metric=mean_absolute_error,\n",
    "                                                            feature_types=None, gamma=0.1,\n",
    "                                                            gpu_id=None, grow_policy=None,\n",
    "                                                            importance_type=None,\n",
    "                                                            interaction_constraints=None,\n",
    "                                                            learning_rate=0.2, max_bin=None,\n",
    "                                                            max_cat_threshold=None,\n",
    "                                                            max_cat_to_onehot=None,\n",
    "                                                            max_delta_step=None, max_depth=4,\n",
    "                                                            max_leaves=5, min_child_weight=9,\n",
    "                                                            monotone_constraints=None,\n",
    "                                                            n_estimators=300, n_jobs=None,\n",
    "                                                            num_parallel_tree=None,\n",
    "                                                            predictor=None, random_state=None))\n",
    "\n",
    "# Fit the model to the training data\n",
    "_ = best_model_prct.fit(train_df_X.replace({True: 1, False: 0}), train_df_Y_prct)"
   ]
  },
  {
   "cell_type": "code",
   "execution_count": 143,
   "metadata": {},
   "outputs": [
    {
     "name": "stdout",
     "output_type": "stream",
     "text": [
      "Root mean square errors:\n",
      "prct_cause_externe                      0.160036\n",
      "prct_cause_infra                        0.140139\n",
      "prct_cause_gestion_trafic               0.135317\n",
      "prct_cause_materiel_roulant             0.131880\n",
      "prct_cause_gestion_gare                 0.079236\n",
      "prct_cause_prise_en_charge_voyageurs    0.097627\n",
      "dtype: float64\n",
      "Total: 0.12403921373696596\n",
      "Average R-squared: 0.14586806568063485\n"
     ]
    }
   ],
   "source": [
    "from sklearn.metrics import mean_squared_error\n",
    "from sklearn.metrics import r2_score\n",
    "\n",
    "# Make predictions on the test data\n",
    "y_pred_prct2 = best_model_prct.predict(test_df_X)\n",
    "\n",
    "print(\"Root mean square errors:\")\n",
    "print(np.sqrt(np.mean((y_pred_prct2 - test_df_Y_prct)**2, axis=0)))\n",
    "print(\"Total:\", sum(np.sqrt(np.mean((y_pred_prct2 - test_df_Y_prct)**2, axis=0)))/6)\n",
    "\n",
    "# Calculate the R-squared for the MultiOutputRegressor\n",
    "output_r2_scores = []\n",
    "for i in range(test_df_Y_prct.shape[1]):\n",
    "    output_r2_scores.append(r2_score(test_df_Y_prct.iloc[:, i], y_pred_prct2[:, i]))\n",
    "\n",
    "average_r2_score2 = np.mean(output_r2_scores)\n",
    "# Print the R-squared\n",
    "print(\"Average R-squared:\", average_r2_score2)"
   ]
  },
  {
   "cell_type": "code",
   "execution_count": 71,
   "metadata": {},
   "outputs": [
    {
     "name": "stdout",
     "output_type": "stream",
     "text": [
      "Root mean square errors:\n",
      "prct_cause_externe                      0.139028\n",
      "prct_cause_infra                        0.125103\n",
      "prct_cause_gestion_trafic               0.132503\n",
      "prct_cause_materiel_roulant             0.123136\n",
      "prct_cause_gestion_gare                 0.077197\n",
      "prct_cause_prise_en_charge_voyageurs    0.079964\n",
      "dtype: float64\n",
      "Total: 0.6769312255039136\n",
      "Average R-squared: 0.07449361153333363\n"
     ]
    }
   ],
   "source": [
    "from sklearn.metrics import mean_squared_error\n",
    "from sklearn.metrics import r2_score\n",
    "\n",
    "# Make predictions on the validate data\n",
    "y_pred_prct2 = best_model_prct.predict(validate_df_X)\n",
    "\n",
    "print(\"Root mean square errors:\")\n",
    "print(np.sqrt(np.mean((y_pred_prct2 - validate_df_Y_prct)**2, axis=0)))\n",
    "print(\"Total:\",sum(np.sqrt(np.mean((y_pred_prct2 - validate_df_Y_prct)**2, axis=0))))\n",
    "\n",
    "# Calculate the R-squared for the MultiOutputRegressor\n",
    "output_r2_scores = []\n",
    "for i in range(validate_df_Y_prct.shape[1]):\n",
    "    output_r2_scores.append(r2_score(validate_df_Y_prct.iloc[:, i], y_pred_prct2[:, i]))\n",
    "\n",
    "average_r2_score2 = np.mean(output_r2_scores)\n",
    "# Print the R-squared\n",
    "print(\"Average R-squared:\", average_r2_score2)"
   ]
  },
  {
   "cell_type": "markdown",
   "metadata": {},
   "source": [
    "### Prediction with dim_reduction"
   ]
  },
  {
   "cell_type": "code",
   "execution_count": 72,
   "metadata": {},
   "outputs": [],
   "source": [
    "from dim_reduction import best_forward_feature_selection\n",
    "\n",
    "train_df_X_dim_r = train_df_X[best_forward_feature_selection()]\n",
    "test_df_X_dim_r = test_df_X[best_forward_feature_selection()]\n",
    "validate_df_X_dim_r = validate_df_X[best_forward_feature_selection()]"
   ]
  },
  {
   "cell_type": "code",
   "execution_count": 73,
   "metadata": {},
   "outputs": [],
   "source": [
    "import xgboost as xgb\n",
    "\n",
    "# Create regression matrices\n",
    "dtrain_reg_retard_dim_r = xgb.DMatrix(train_df_X_dim_r, train_df_Y_retard, enable_categorical=False)\n",
    "dtest_reg_retard_dim_r = xgb.DMatrix(test_df_X_dim_r, test_df_Y_retard, enable_categorical=False)\n",
    "dval_reg_retard_dim_r = xgb.DMatrix(validate_df_X_dim_r, validate_df_Y_retard, enable_categorical=False)"
   ]
  },
  {
   "cell_type": "code",
   "execution_count": 74,
   "metadata": {},
   "outputs": [],
   "source": [
    "# Define hyperparameters\n",
    "params = {\"objective\": \"reg:squarederror\", \"tree_method\": \"gpu_hist\"}\n",
    "\n",
    "n = 100\n",
    "model_retard_dim_r = xgb.train(\n",
    "   params=params,\n",
    "   dtrain=dtrain_reg_retard_dim_r,\n",
    "   num_boost_round=n,\n",
    ")"
   ]
  },
  {
   "cell_type": "code",
   "execution_count": 78,
   "metadata": {},
   "outputs": [
    {
     "name": "stdout",
     "output_type": "stream",
     "text": [
      "RMSE of the base reatard model: 0.843\n",
      "R2 of the base reatard model: -0.691\n"
     ]
    }
   ],
   "source": [
    "from sklearn.metrics import mean_squared_error\n",
    "from sklearn.metrics import r2_score\n",
    "\n",
    "pred_retard_dim_r = model_retard_dim_r.predict(dtest_reg_retard_dim_r)\n",
    "\n",
    "# Root Mean Squared Error\n",
    "rmse_retard_dim_r = mean_squared_error(pred_retard_dim_r, test_df_Y_retard, squared=False) # True: MSE False:RMSE\n",
    "print(f\"RMSE of the base reatard model: {rmse_retard_dim_r:.3f}\")\n",
    "\n",
    "r2_retatd_dim_r = r2_score(pred_retard_dim_r, test_df_Y_retard)\n",
    "print(f\"R2 of the base reatard model: {r2_retatd_dim_r:.3f}\")"
   ]
  },
  {
   "cell_type": "code",
   "execution_count": 79,
   "metadata": {},
   "outputs": [
    {
     "name": "stdout",
     "output_type": "stream",
     "text": [
      "RMSE of the base reatard model: 1.055\n",
      "R2 of the base reatard model: -2.510\n"
     ]
    }
   ],
   "source": [
    "from sklearn.metrics import mean_squared_error\n",
    "from sklearn.metrics import r2_score\n",
    "\n",
    "pred_retard_dim_r = model_retard_dim_r.predict(dval_reg_retard_dim_r)\n",
    "\n",
    "# Root Mean Squared Error\n",
    "rmse_retard_dim_r = mean_squared_error(pred_retard_dim_r, validate_df_Y_retard, squared=False) # True: MSE False:RMSE\n",
    "print(f\"RMSE of the base reatard model: {rmse_retard_dim_r:.3f}\")\n",
    "\n",
    "r2_retatd_dim_r = r2_score(pred_retard_dim_r, validate_df_Y_retard)\n",
    "print(f\"R2 of the base reatard model: {r2_retatd_dim_r:.3f}\")"
   ]
  },
  {
   "cell_type": "markdown",
   "metadata": {},
   "source": [
    "#### Using Test Sets During Training\n",
    "\n",
    "We will use evaluation arrays that allow us to see model performance as it gets improved incrementally across boosting rounds."
   ]
  },
  {
   "cell_type": "code",
   "execution_count": 80,
   "metadata": {},
   "outputs": [
    {
     "name": "stdout",
     "output_type": "stream",
     "text": [
      "[0]\ttrain-rmse:0.96751\ttest-rmse:1.01830\n",
      "[10]\ttrain-rmse:0.70816\ttest-rmse:0.84869\n",
      "[20]\ttrain-rmse:0.65119\ttest-rmse:0.84784\n",
      "[30]\ttrain-rmse:0.61788\ttest-rmse:0.84711\n",
      "[40]\ttrain-rmse:0.57867\ttest-rmse:0.83778\n",
      "[50]\ttrain-rmse:0.54084\ttest-rmse:0.83243\n",
      "[60]\ttrain-rmse:0.51467\ttest-rmse:0.83489\n",
      "[70]\ttrain-rmse:0.49076\ttest-rmse:0.83919\n",
      "[80]\ttrain-rmse:0.46956\ttest-rmse:0.83860\n",
      "[90]\ttrain-rmse:0.45189\ttest-rmse:0.84090\n",
      "[99]\ttrain-rmse:0.43739\ttest-rmse:0.84348\n"
     ]
    }
   ],
   "source": [
    "# Test and Training \n",
    "params = {\"objective\": \"reg:squarederror\", \"tree_method\": \"gpu_hist\"}\n",
    "\n",
    "n = 100\n",
    "evals = [(dtrain_reg_retard_dim_r, \"train\"), (dtest_reg_retard_dim_r, \"test\")]\n",
    "\n",
    "model_retard2_dim_r = xgb.train(\n",
    "   params=params,\n",
    "   dtrain=dtrain_reg_retard_dim_r,\n",
    "   num_boost_round=n,\n",
    "   evals=evals,\n",
    "   verbose_eval=10 # Every ten rounds\n",
    ")"
   ]
  },
  {
   "cell_type": "code",
   "execution_count": 81,
   "metadata": {},
   "outputs": [
    {
     "name": "stdout",
     "output_type": "stream",
     "text": [
      "[0]\ttrain-rmse:0.96751\ttest-rmse:1.01830\n"
     ]
    },
    {
     "name": "stdout",
     "output_type": "stream",
     "text": [
      "[5]\ttrain-rmse:0.76868\ttest-rmse:0.87134\n",
      "[10]\ttrain-rmse:0.70816\ttest-rmse:0.84869\n",
      "[15]\ttrain-rmse:0.67595\ttest-rmse:0.84621\n",
      "[20]\ttrain-rmse:0.65119\ttest-rmse:0.84784\n",
      "[25]\ttrain-rmse:0.63483\ttest-rmse:0.84903\n",
      "[30]\ttrain-rmse:0.61788\ttest-rmse:0.84711\n",
      "[35]\ttrain-rmse:0.59512\ttest-rmse:0.83994\n",
      "[40]\ttrain-rmse:0.57867\ttest-rmse:0.83778\n",
      "[45]\ttrain-rmse:0.55428\ttest-rmse:0.83078\n",
      "[50]\ttrain-rmse:0.54084\ttest-rmse:0.83243\n",
      "[55]\ttrain-rmse:0.53137\ttest-rmse:0.83265\n",
      "[60]\ttrain-rmse:0.51467\ttest-rmse:0.83489\n",
      "[62]\ttrain-rmse:0.51181\ttest-rmse:0.83586\n"
     ]
    }
   ],
   "source": [
    "# Test and Training \n",
    "params = {\"objective\": \"reg:squarederror\", \"tree_method\": \"gpu_hist\"}\n",
    "\n",
    "n = 100\n",
    "evals = [(dtrain_reg_retard_dim_r, \"train\"), (dtest_reg_retard_dim_r, \"test\")]\n",
    "\n",
    "model_retard2_dim_r = xgb.train(\n",
    "   params=params,\n",
    "   dtrain=dtrain_reg_retard_dim_r,\n",
    "   num_boost_round=n,\n",
    "   evals=evals,\n",
    "   verbose_eval=5, # Every ten rounds\n",
    "   # Activate early stopping\n",
    "   early_stopping_rounds=20\n",
    ")"
   ]
  },
  {
   "cell_type": "code",
   "execution_count": 83,
   "metadata": {},
   "outputs": [
    {
     "name": "stdout",
     "output_type": "stream",
     "text": [
      "RMSE of the base reatard model: 0.838\n",
      "R2 of the base reatard model: -0.792\n"
     ]
    }
   ],
   "source": [
    "from sklearn.metrics import mean_squared_error\n",
    "from sklearn.metrics import r2_score\n",
    "\n",
    "pred_retard2_dim_r = model_retard2_dim_r.predict(dtest_reg_retard_dim_r)\n",
    "\n",
    "# Root Mean Squared Error\n",
    "rmse_retard2_dim_r = mean_squared_error(pred_retard2_dim_r, test_df_Y_retard, squared=False) # True: MSE False:RMSE\n",
    "print(f\"RMSE of the base reatard model: {rmse_retard2_dim_r:.3f}\")\n",
    "\n",
    "r2_retatd2_dim_r = r2_score(pred_retard2_dim_r, test_df_Y_retard)\n",
    "print(f\"R2 of the base reatard model: {r2_retatd2_dim_r:.3f}\")"
   ]
  },
  {
   "cell_type": "code",
   "execution_count": 84,
   "metadata": {},
   "outputs": [
    {
     "name": "stdout",
     "output_type": "stream",
     "text": [
      "RMSE of the base reatard model: 1.051\n",
      "R2 of the base reatard model: -2.833\n"
     ]
    }
   ],
   "source": [
    "from sklearn.metrics import mean_squared_error\n",
    "from sklearn.metrics import r2_score\n",
    "\n",
    "pred_retard2_dim_r = model_retard2_dim_r.predict(dval_reg_retard_dim_r)\n",
    "\n",
    "# Root Mean Squared Error\n",
    "rmse_retard2_dim_r = mean_squared_error(pred_retard2_dim_r, validate_df_Y_retard, squared=False) # True: MSE False:RMSE\n",
    "print(f\"RMSE of the base reatard model: {rmse_retard2_dim_r:.3f}\")\n",
    "\n",
    "r2_retatd2_dim_r = r2_score(pred_retard2_dim_r, validate_df_Y_retard)\n",
    "print(f\"R2 of the base reatard model: {r2_retatd2_dim_r:.3f}\")"
   ]
  },
  {
   "cell_type": "markdown",
   "metadata": {},
   "source": [
    "#### Plot results"
   ]
  },
  {
   "cell_type": "code",
   "execution_count": 30,
   "metadata": {},
   "outputs": [
    {
     "data": {
      "image/png": "[encoded data removed]",
      "text/plain": [
       "<Figure size 720x504 with 1 Axes>"
      ]
     },
     "metadata": {
      "needs_background": "light"
     },
     "output_type": "display_data"
    }
   ],
   "source": [
    "import matplotlib.pyplot as plt\n",
    "\n",
    "plt.figure(figsize=(10, 7))\n",
    "plt.scatter(pred_retard2_dim_r, test_df_Y_retard)\n",
    "plt.plot([test_df_Y_retard.min(), test_df_Y_retard.max()], [test_df_Y_retard.min(), test_df_Y_retard.max()], color='red', linewidth=2)\n",
    "plt.xlabel('True Values')\n",
    "plt.ylabel('Predicted Values')\n",
    "plt.title('True vs Predicted Values')\n",
    "plt.show()"
   ]
  },
  {
   "cell_type": "markdown",
   "metadata": {},
   "source": [
    "#### Grid search from before"
   ]
  },
  {
   "cell_type": "code",
   "execution_count": 33,
   "metadata": {},
   "outputs": [
    {
     "name": "stdout",
     "output_type": "stream",
     "text": [
      "Mean Squared Error: 0.8709434578051307\n",
      "R2 of the base reatard model: -0.921\n"
     ]
    }
   ],
   "source": [
    "from sklearn.metrics import mean_squared_error\n",
    "from sklearn.metrics import r2_score\n",
    "\n",
    "# Best parameters\n",
    "parameters = {'colsample_bytree': 0.5, 'learning_rate': 0.1, 'max_depth': 4, 'n_estimators': 300, 'subsample': 0.5}\n",
    "\n",
    "# Train the model with the best hyperparameters\n",
    "best_xgb_model_dim_r = xgb.XGBRegressor(colsample_bytree= 0.5, learning_rate=0.1, max_depth= 4, n_estimators =300, subsample= 0.5, objective=\"reg:squarederror\", tree_method =\"gpu_hist\")\n",
    "best_xgb_model_dim_r.fit(train_df_X_dim_r.replace({True: 1, False: 0}), train_df_Y_retard)\n",
    "\n",
    "# Make predictions on the test data\n",
    "pred_retard3_dim_r = best_xgb_model_dim_r.predict(test_df_X_dim_r)\n",
    "\n",
    "# Evaluate the model's performance\n",
    "rmse3_dim_r = mean_squared_error(pred_retard3_dim_r, test_df_Y_retard, squared=False)\n",
    "print(\"Mean Squared Error:\", rmse3_dim_r)\n",
    "\n",
    "r2_retatd3_dim_r = r2_score(pred_retard3_dim_r, test_df_Y_retard)\n",
    "print(f\"R2 of the base reatard model: {r2_retatd3_dim_r:.3f}\")"
   ]
  },
  {
   "cell_type": "code",
   "execution_count": 34,
   "metadata": {},
   "outputs": [
    {
     "data": {
      "image/png": "[encoded data removed]",
      "text/plain": [
       "<Figure size 720x504 with 1 Axes>"
      ]
     },
     "metadata": {
      "needs_background": "light"
     },
     "output_type": "display_data"
    }
   ],
   "source": [
    "import matplotlib.pyplot as plt\n",
    "\n",
    "plt.figure(figsize=(10, 7))\n",
    "plt.scatter(pred_retard3_dim_r, test_df_Y_retard)\n",
    "plt.plot([test_df_Y_retard.min(), test_df_Y_retard.max()], [test_df_Y_retard.min(), test_df_Y_retard.max()], color='red', linewidth=2)\n",
    "plt.xlabel('True Values')\n",
    "plt.ylabel('Predicted Values')\n",
    "plt.title('True vs Predicted Values')\n",
    "plt.show()"
   ]
  },
  {
   "cell_type": "markdown",
   "metadata": {},
   "source": [
    "#### GridSerach new"
   ]
  },
  {
   "cell_type": "code",
   "execution_count": null,
   "metadata": {},
   "outputs": [],
   "source": [
    "from sklearn.model_selection import GridSearchCV\n",
    "import pandas as pd\n",
    "\n",
    "# Define the hyperparameter grid\n",
    "param_grid = {\n",
    "    'n_estimators': [100, 200, 300],\n",
    "    'max_depth': [3, 4, 5],\n",
    "    'learning_rate': [0.01, 0.1, 0.2],\n",
    "    'subsample': [0.5, 0.8, 1],\n",
    "    'colsample_bytree': [0.5, 0.8, 1]\n",
    "}\n",
    "\n",
    "# Create an instance of XGBRegressor\n",
    "xgb_model = xgb.XGBRegressor(objective=\"reg:squarederror\", tree_method =\"gpu_hist\")\n",
    "\n",
    "# Create the grid search object\n",
    "grid_search_retard = GridSearchCV(estimator=xgb_model, param_grid=param_grid, cv=5, scoring='neg_mean_squared_error', verbose = 0)\n",
    "\n",
    "# Fit the grid search object to the data\n",
    "grid_search_retard.fit(train_df_X_dim_r.replace({True: 1, False: 0}), pd.to_numeric(train_df_Y_retard))\n",
    "\n",
    "# Get the best combination of hyperparameters\n",
    "best_params_retard_dim_r = grid_search_retard.best_params_\n",
    "\n"
   ]
  },
  {
   "cell_type": "code",
   "execution_count": 42,
   "metadata": {},
   "outputs": [
    {
     "name": "stdout",
     "output_type": "stream",
     "text": [
      "Best hyperparameters: {'colsample_bytree': 0.8, 'learning_rate': 0.1, 'max_depth': 5, 'n_estimators': 100, 'subsample': 0.8}\n"
     ]
    }
   ],
   "source": [
    "print(\"Best hyperparameters:\", best_params_retard_dim_r)"
   ]
  },
  {
   "cell_type": "markdown",
   "metadata": {},
   "source": [
    "Best hyperparameters: {'colsample_bytree': 0.8, 'learning_rate': 0.1, 'max_depth': 5, 'n_estimators': 100, 'subsample': 0.8}"
   ]
  },
  {
   "cell_type": "code",
   "execution_count": 85,
   "metadata": {},
   "outputs": [
    {
     "name": "stdout",
     "output_type": "stream",
     "text": [
      "Mean Squared Error: 0.8496110789344398\n",
      "R2 of the base reatard model: -1.119\n"
     ]
    }
   ],
   "source": [
    "from sklearn.metrics import mean_squared_error\n",
    "from sklearn.metrics import r2_score\n",
    "\n",
    "# Train the model with the best hyperparameters\n",
    "best_xgb_model_dim_r = xgb.XGBRegressor(colsample_bytree= 0.8, learning_rate= 0.1, max_depth= 5, n_estimators= 100, subsample=0.8)\n",
    "best_xgb_model_dim_r.fit(train_df_X_dim_r.replace({True: 1, False: 0}), train_df_Y_retard)\n",
    "\n",
    "# Make predictions on the test data\n",
    "pred_retard3_dim_r = best_xgb_model_dim_r.predict(test_df_X_dim_r)\n",
    "\n",
    "# Evaluate the model's performance\n",
    "rmse3_dim_r = mean_squared_error(pred_retard3_dim_r, test_df_Y_retard, squared=False)\n",
    "print(\"Mean Squared Error:\", rmse3_dim_r)\n",
    "\n",
    "r2_retatd3_dim_r = r2_score(pred_retard3_dim_r, test_df_Y_retard)\n",
    "print(f\"R2 of the base reatard model: {r2_retatd3_dim_r:.3f}\")"
   ]
  },
  {
   "cell_type": "code",
   "execution_count": 86,
   "metadata": {},
   "outputs": [
    {
     "name": "stdout",
     "output_type": "stream",
     "text": [
      "Mean Squared Error: 1.0369875187799964\n",
      "R2 of the base reatard model: -3.484\n"
     ]
    }
   ],
   "source": [
    "from sklearn.metrics import mean_squared_error\n",
    "from sklearn.metrics import r2_score\n",
    "\n",
    "# Train the model with the best hyperparameters\n",
    "best_xgb_model_dim_r = xgb.XGBRegressor(colsample_bytree= 0.8, learning_rate= 0.1, max_depth= 5, n_estimators= 100, subsample=0.8)\n",
    "best_xgb_model_dim_r.fit(train_df_X_dim_r.replace({True: 1, False: 0}), train_df_Y_retard)\n",
    "\n",
    "# Make predictions on the test data\n",
    "pred_retard3_dim_r = best_xgb_model_dim_r.predict(validate_df_X_dim_r)\n",
    "\n",
    "# Evaluate the model's performance\n",
    "rmse3_dim_r = mean_squared_error(pred_retard3_dim_r, validate_df_Y_retard, squared=False)\n",
    "print(\"Mean Squared Error:\", rmse3_dim_r)\n",
    "\n",
    "r2_retatd3_dim_r = r2_score(pred_retard3_dim_r, validate_df_Y_retard)\n",
    "print(f\"R2 of the base reatard model: {r2_retatd3_dim_r:.3f}\")"
   ]
  },
  {
   "cell_type": "code",
   "execution_count": 44,
   "metadata": {},
   "outputs": [
    {
     "data": {
      "image/png": "[encoded data removed]",
      "text/plain": [
       "<Figure size 720x504 with 1 Axes>"
      ]
     },
     "metadata": {
      "needs_background": "light"
     },
     "output_type": "display_data"
    }
   ],
   "source": [
    "import matplotlib.pyplot as plt\n",
    "\n",
    "plt.figure(figsize=(10, 7))\n",
    "plt.scatter(pred_retard3_dim_r, test_df_Y_retard)\n",
    "plt.plot([test_df_Y_retard.min(), test_df_Y_retard.max()], [test_df_Y_retard.min(), test_df_Y_retard.max()], color='red', linewidth=2)\n",
    "plt.xlabel('True Values')\n",
    "plt.ylabel('Predicted Values')\n",
    "plt.title('True vs Predicted Values')\n",
    "plt.show()"
   ]
  },
  {
   "cell_type": "markdown",
   "metadata": {},
   "source": [
    "### Prediciton of porcentage with dim_reduction"
   ]
  },
  {
   "cell_type": "code",
   "execution_count": 87,
   "metadata": {},
   "outputs": [],
   "source": [
    "import xgboost as xgb\n",
    "import numpy as np\n",
    "from sklearn.metrics import r2_score\n",
    "from sklearn.multioutput import MultiOutputRegressor\n",
    "from sklearn.metrics import mean_absolute_error\n",
    "\n",
    "# Create a MultiOutputRegressor object\n",
    "multioutputregressor = MultiOutputRegressor(xgb.XGBRegressor(objective=\"reg:squarederror\", tree_method =\"gpu_hist\", \n",
    "                                                             eval_metric  = mean_absolute_error))\n",
    "\n",
    "# Fit the model to the training data\n",
    "_ = multioutputregressor.fit(train_df_X_dim_r.replace({True: 1, False: 0}), train_df_Y_prct)"
   ]
  },
  {
   "cell_type": "code",
   "execution_count": 88,
   "metadata": {},
   "outputs": [
    {
     "name": "stdout",
     "output_type": "stream",
     "text": [
      "Root mean square errors:\n",
      "prct_cause_externe                      0.164194\n",
      "prct_cause_infra                        0.139848\n",
      "prct_cause_gestion_trafic               0.135104\n",
      "prct_cause_materiel_roulant             0.140278\n",
      "prct_cause_gestion_gare                 0.083938\n",
      "prct_cause_prise_en_charge_voyageurs    0.100326\n",
      "dtype: float64\n",
      "Average R-squared: 0.09395796154675529\n"
     ]
    }
   ],
   "source": [
    "y_pred_prct_dim_r = multioutputregressor.predict(test_df_X_dim_r)\n",
    "print(\"Root mean square errors:\")\n",
    "print(np.sqrt(np.mean((y_pred_prct_dim_r - test_df_Y_prct)**2, axis=0)))\n",
    "\n",
    "# Calculate the R-squared for the MultiOutputRegressor\n",
    "output_r2_scores = []\n",
    "for i in range(test_df_Y_prct.shape[1]):\n",
    "    output_r2_scores.append(r2_score(test_df_Y_prct.iloc[:, i], y_pred_prct_dim_r[:, i]))\n",
    "\n",
    "average_r2_score = np.mean(output_r2_scores)\n",
    "# Print the R-squared\n",
    "print(\"Average R-squared:\", average_r2_score)"
   ]
  },
  {
   "cell_type": "code",
   "execution_count": 92,
   "metadata": {},
   "outputs": [
    {
     "name": "stdout",
     "output_type": "stream",
     "text": [
      "Root mean square errors:\n",
      "prct_cause_externe                      0.133159\n",
      "prct_cause_infra                        0.125242\n",
      "prct_cause_gestion_trafic               0.125742\n",
      "prct_cause_materiel_roulant             0.123811\n",
      "prct_cause_gestion_gare                 0.077195\n",
      "prct_cause_prise_en_charge_voyageurs    0.087634\n",
      "dtype: float64\n",
      "Total: 0.11213069204554955\n",
      "Average R-squared: 0.06769675334865942\n"
     ]
    }
   ],
   "source": [
    "y_pred_prct_dim_r = multioutputregressor.predict(validate_df_X_dim_r)\n",
    "print(\"Root mean square errors:\")\n",
    "print(np.sqrt(np.mean((y_pred_prct_dim_r - validate_df_Y_prct)**2, axis=0)))\n",
    "print(\"Total:\", sum(np.sqrt(np.mean((y_pred_prct_dim_r - validate_df_Y_prct)**2, axis=0)))/6)\n",
    "\n",
    "# Calculate the R-squared for the MultiOutputRegressor\n",
    "output_r2_scores = []\n",
    "for i in range(test_df_Y_prct.shape[1]):\n",
    "    output_r2_scores.append(r2_score(validate_df_Y_prct.iloc[:, i], y_pred_prct_dim_r[:, i]))\n",
    "\n",
    "average_r2_score = np.mean(output_r2_scores)\n",
    "# Print the R-squared\n",
    "print(\"Average R-squared:\", average_r2_score)"
   ]
  },
  {
   "cell_type": "markdown",
   "metadata": {},
   "source": [
    "#### Grid Search ussed values"
   ]
  },
  {
   "cell_type": "code",
   "execution_count": 39,
   "metadata": {},
   "outputs": [],
   "source": [
    "import xgboost as xgb\n",
    "import numpy as np\n",
    "from sklearn.metrics import r2_score\n",
    "from sklearn.multioutput import MultiOutputRegressor\n",
    "from sklearn.metrics import mean_absolute_error\n",
    "\n",
    "# Create a MultiOutputRegressor object\n",
    "# multioutputregressor = MultiOutputRegressor(xgb.XGBRegressor(objective=\"reg:squarederror\", tree_method =\"gpu_hist\", \n",
    "#                                                              eval_metric  = mean_absolute_error))\n",
    "best_model_prct = MultiOutputRegressor(xgb.XGBRegressor(base_score=None, booster=None,\n",
    "                                                              objective=\"reg:squarederror\",\n",
    "                                                              tree_method =\"gpu_hist\",\n",
    "                                                            callbacks=None,\n",
    "                                                            colsample_bylevel=None,\n",
    "                                                            colsample_bynode=None,\n",
    "                                                            colsample_bytree=0.5,\n",
    "                                                            early_stopping_rounds=None,\n",
    "                                                            enable_categorical=False,\n",
    "                                                            eval_metric=mean_absolute_error,\n",
    "                                                            feature_types=None, gamma=0.1,\n",
    "                                                            gpu_id=None, grow_policy=None,\n",
    "                                                            importance_type=None,\n",
    "                                                            interaction_constraints=None,\n",
    "                                                            learning_rate=0.2, max_bin=None,\n",
    "                                                            max_cat_threshold=None,\n",
    "                                                            max_cat_to_onehot=None,\n",
    "                                                            max_delta_step=None, max_depth=4,\n",
    "                                                            max_leaves=5, min_child_weight=9,\n",
    "                                                            monotone_constraints=None,\n",
    "                                                            n_estimators=300, n_jobs=None,\n",
    "                                                            num_parallel_tree=None,\n",
    "                                                            predictor=None, random_state=None))\n",
    "\n",
    "# Fit the model to the training data\n",
    "_ = best_model_prct.fit(train_df_X_dim_r.replace({True: 1, False: 0}), train_df_Y_prct)"
   ]
  },
  {
   "cell_type": "code",
   "execution_count": 40,
   "metadata": {},
   "outputs": [
    {
     "name": "stdout",
     "output_type": "stream",
     "text": [
      "Root mean square errors:\n",
      "prct_cause_externe                      0.156231\n",
      "prct_cause_infra                        0.144466\n",
      "prct_cause_gestion_trafic               0.134904\n",
      "prct_cause_materiel_roulant             0.125189\n",
      "prct_cause_gestion_gare                 0.082308\n",
      "prct_cause_prise_en_charge_voyageurs    0.098418\n",
      "dtype: float64\n",
      "Average R-squared: 0.13993641910813595\n"
     ]
    }
   ],
   "source": [
    "from sklearn.metrics import mean_squared_error\n",
    "from sklearn.metrics import r2_score\n",
    "\n",
    "# Make predictions on the test data\n",
    "y_pred_prct2_dim_r = best_model_prct.predict(test_df_X_dim_r)\n",
    "\n",
    "print(\"Root mean square errors:\")\n",
    "print(np.sqrt(np.mean((y_pred_prct2_dim_r - test_df_Y_prct)**2, axis=0)))\n",
    "\n",
    "# Calculate the R-squared for the MultiOutputRegressor\n",
    "output_r2_scores = []\n",
    "for i in range(test_df_Y_prct.shape[1]):\n",
    "    output_r2_scores.append(r2_score(test_df_Y_prct.iloc[:, i], y_pred_prct2_dim_r[:, i]))\n",
    "\n",
    "average_r2_score2 = np.mean(output_r2_scores)\n",
    "# Print the R-squared\n",
    "print(\"Average R-squared:\", average_r2_score2)"
   ]
  },
  {
   "cell_type": "markdown",
   "metadata": {},
   "source": [
    "#### Pred with gridsearch"
   ]
  },
  {
   "cell_type": "code",
   "execution_count": 45,
   "metadata": {},
   "outputs": [],
   "source": [
    "from sklearn.model_selection import GridSearchCV\n",
    "from sklearn.multioutput import MultiOutputRegressor\n",
    "from sklearn.metrics import mean_absolute_error\n",
    "import xgboost as xgb\n",
    "\n",
    "# define the grid of parameters to try\n",
    "seed = 100\n",
    "n_estimators = 300\n",
    "learning_rate = 0.1\n",
    "gamma = 0.1\n",
    "subsample = 0.5\n",
    "colsample_bytree = 0.5\n",
    "reg_alpha = 1\n",
    "reg_lambda = 1\n",
    "silent = False\n",
    "\n",
    "parameters = {}\n",
    "parameters['seed'] = seed\n",
    "parameters['n_estimators'] = n_estimators\n",
    "parameters['learning_rate'] = learning_rate\n",
    "parameters['gamma'] = gamma\n",
    "parameters['colsample_bytree'] = colsample_bytree\n",
    "parameters['reg_alpha'] = reg_alpha\n",
    "parameters['reg_lambda'] = reg_lambda\n",
    "parameters['silent'] = silent\n",
    "\n",
    "scores = []\n",
    "\n",
    "cv_params = {\n",
    "    'max_depth': [5,6,7],\n",
    "    'min_child_weight': [5,7,9],\n",
    "    'learning_rate': [0.01, 0.1, 0.2],\n",
    "    \"max_leaves\": [1,3,5]\n",
    "}\n",
    "\n",
    "cv_params = {\n",
    "    \"estimator__max_leaves\": [1,3,5],\n",
    "    'estimator__max_depth': [4, 5, 6],\n",
    "    'estimator__learning_rate': [0.5, 0.1, 0.2],\n",
    "    'estimator__min_child_weight': [5,7,9],\n",
    "}\n",
    "# Set no message\n",
    "xgb.set_config(verbosity=0)\n",
    "# create the MultiOutputRegressor model with XGBRegressor\n",
    "multioutputregressor = MultiOutputRegressor(xgb.XGBRegressor(objective=\"reg:squarederror\", \n",
    "                                                             tree_method =\"gpu_hist\",\n",
    "                                                             eval_metric  = mean_absolute_error,\n",
    "                                                             n_estimators = n_estimators,\n",
    "                                                             gamma = gamma,\n",
    "                                                             subsample = subsample,\n",
    "                                                             colsample_bytree = colsample_bytree,\n",
    "                                                             reg_alpha = reg_alpha,\n",
    "                                                             reg_lambda = reg_lambda,\n",
    "                                                             silent = silent))\n",
    "\n",
    "# create the GridSearchCV object\n",
    "grid_search =  GridSearchCV(multioutputregressor,\n",
    "                    param_grid = cv_params,\n",
    "                    scoring = \"neg_mean_squared_error\",\n",
    "                    cv = 5,\n",
    "                    verbose = 0\n",
    ")\n",
    "\n",
    "# fit the model\n",
    "grid_search.fit(train_df_X_dim_r.replace({True: 1, False: 0}), train_df_Y_prct)\n",
    "\n",
    "# get the best model\n",
    "best_model_prct_dim_r = grid_search.best_estimator_"
   ]
  },
  {
   "cell_type": "markdown",
   "metadata": {},
   "source": [
    "MultiOutputRegressor(estimator=XGBRegressor(base_score=None, booster=None,\n",
    "                                            callbacks=None,\n",
    "                                            colsample_bylevel=None,\n",
    "                                            colsample_bynode=None,\n",
    "                                            colsample_bytree=0.5,\n",
    "                                            early_stopping_rounds=None,\n",
    "                                            enable_categorical=False,\n",
    "                                            eval_metric=<function mean_absolute_error at 0x000002602BD0A430>,\n",
    "                                            feature_types=None, gamma=0.1,\n",
    "                                            gpu_id=None, grow_policy=None,\n",
    "                                            importance_type=None,\n",
    "                                            interaction_constraints=None,\n",
    "                                            learning_rate=0.1, max_bin=None,\n",
    "                                            max_cat_threshold=None,\n",
    "                                            max_cat_to_onehot=None,\n",
    "                                            max_delta_step=None, max_depth=4,\n",
    "                                            max_leaves=5, min_child_weight=7,\n",
    "                                            missing=nan,\n",
    "                                            monotone_constraints=None,\n",
    "                                            n_estimators=300, n_jobs=None,\n",
    "                                            num_parallel_tree=None,\n",
    "                                            predictor=None, random_state=None, ...))"
   ]
  },
  {
   "cell_type": "code",
   "execution_count": 100,
   "metadata": {},
   "outputs": [],
   "source": [
    "from sklearn.metrics import mean_absolute_error\n",
    "best_model_prct_dim_r = MultiOutputRegressor(xgb.XGBRegressor(base_score=None, booster=None,\n",
    "                                            callbacks=None,\n",
    "                                            colsample_bylevel=None,\n",
    "                                            colsample_bynode=None,\n",
    "                                            colsample_bytree=0.5,\n",
    "                                            early_stopping_rounds=None,\n",
    "                                            enable_categorical=False,\n",
    "                                            eval_metric=mean_absolute_error,\n",
    "                                            feature_types=None, gamma=0.1,\n",
    "                                            gpu_id=None, grow_policy=None,\n",
    "                                            importance_type=None,\n",
    "                                            interaction_constraints=None,\n",
    "                                            learning_rate=0.1, max_bin=None,\n",
    "                                            max_cat_threshold=None,\n",
    "                                            max_cat_to_onehot=None,\n",
    "                                            max_delta_step=None, max_depth=4,\n",
    "                                            max_leaves=5, min_child_weight=7,\n",
    "                                            monotone_constraints=None,\n",
    "                                            n_estimators=300, n_jobs=None,\n",
    "                                            num_parallel_tree=None,\n",
    "                                            predictor=None, random_state=None))\n",
    "_ = best_model_prct_dim_r.fit(train_df_X_dim_r.replace({True: 1, False: 0}), train_df_Y_prct)"
   ]
  },
  {
   "cell_type": "code",
   "execution_count": 144,
   "metadata": {},
   "outputs": [
    {
     "name": "stdout",
     "output_type": "stream",
     "text": [
      "Root mean square errors:\n",
      "prct_cause_externe                      0.159792\n",
      "prct_cause_infra                        0.138639\n",
      "prct_cause_gestion_trafic               0.134100\n",
      "prct_cause_materiel_roulant             0.131540\n",
      "prct_cause_gestion_gare                 0.079535\n",
      "prct_cause_prise_en_charge_voyageurs    0.096403\n",
      "dtype: float64\n",
      "Total: 0.12333489254244588\n",
      "Average R-squared: 0.1548207924959194\n"
     ]
    }
   ],
   "source": [
    "from sklearn.metrics import mean_squared_error\n",
    "from sklearn.metrics import r2_score\n",
    "\n",
    "# Make predictions on the test data\n",
    "y_pred_prct2_dim_r = best_model_prct_dim_r.predict(test_df_X_dim_r)\n",
    "\n",
    "print(\"Root mean square errors:\")\n",
    "print(np.sqrt(np.mean((y_pred_prct2_dim_r - test_df_Y_prct)**2, axis=0)))\n",
    "print(\"Total:\", sum(np.sqrt(np.mean((y_pred_prct2_dim_r - test_df_Y_prct)**2, axis=0)))/6)\n",
    "\n",
    "# Calculate the R-squared for the MultiOutputRegressor\n",
    "output_r2_scores = []\n",
    "for i in range(test_df_Y_prct.shape[1]):\n",
    "    output_r2_scores.append(r2_score(test_df_Y_prct.iloc[:, i], y_pred_prct2_dim_r[:, i]))\n",
    "\n",
    "average_r2_score2 = np.mean(output_r2_scores)\n",
    "# Print the R-squared\n",
    "print(\"Average R-squared:\", average_r2_score2)"
   ]
  },
  {
   "cell_type": "code",
   "execution_count": 103,
   "metadata": {},
   "outputs": [
    {
     "name": "stdout",
     "output_type": "stream",
     "text": [
      "Root mean square errors:\n",
      "prct_cause_externe                      0.133827\n",
      "prct_cause_infra                        0.119292\n",
      "prct_cause_gestion_trafic               0.125377\n",
      "prct_cause_materiel_roulant             0.119971\n",
      "prct_cause_gestion_gare                 0.075669\n",
      "prct_cause_prise_en_charge_voyageurs    0.078107\n",
      "dtype: float64\n",
      "Total: 0.10870720380859995\n",
      "Average R-squared: 0.13601099224279614\n"
     ]
    }
   ],
   "source": [
    "# Validation set\n",
    "from sklearn.metrics import mean_squared_error\n",
    "from sklearn.metrics import r2_score\n",
    "\n",
    "# Make predictions on the test data\n",
    "y_pred_prct2_dim_r = best_model_prct_dim_r.predict(validate_df_X_dim_r)\n",
    "\n",
    "print(\"Root mean square errors:\")\n",
    "print(np.sqrt(np.mean((y_pred_prct2_dim_r - validate_df_Y_prct)**2, axis=0)))\n",
    "print(\"Total:\", sum(np.sqrt(np.mean((y_pred_prct2_dim_r - validate_df_Y_prct)**2, axis=0)))/6)\n",
    "\n",
    "# Calculate the R-squared for the MultiOutputRegressor\n",
    "output_r2_scores = []\n",
    "for i in range(validate_df_Y_prct.shape[1]):\n",
    "    output_r2_scores.append(r2_score(validate_df_Y_prct.iloc[:, i], y_pred_prct2_dim_r[:, i]))\n",
    "\n",
    "average_r2_score2 = np.mean(output_r2_scores)\n",
    "# Print the R-squared\n",
    "print(\"Average R-squared:\", average_r2_score2)\n"
   ]
  },
  {
   "cell_type": "markdown",
   "metadata": {},
   "source": [
    "#### Predict both"
   ]
  },
  {
   "cell_type": "code",
   "execution_count": 113,
   "metadata": {},
   "outputs": [],
   "source": [
    "import xgboost as xgb\n",
    "import numpy as np\n",
    "from sklearn.metrics import r2_score\n",
    "from sklearn.multioutput import MultiOutputRegressor\n",
    "\n",
    "# Test and Training \n",
    "params = {\"objective\": \"reg:squarederror\", \"tree_method\": \"gpu_hist\"}\n",
    "\n",
    "# Create a MultiOutputRegressor object\n",
    "multioutputregressor = MultiOutputRegressor(xgb.XGBRegressor(objective='reg:squarederror'))\n",
    "\n",
    "# Fit the model to the training data\n",
    "_ = multioutputregressor.fit(train_df_X, train_df_Y)"
   ]
  },
  {
   "cell_type": "code",
   "execution_count": 110,
   "metadata": {},
   "outputs": [
    {
     "name": "stdout",
     "output_type": "stream",
     "text": [
      "prct_cause_externe                      0.024430\n",
      "prct_cause_infra                        0.019136\n",
      "prct_cause_gestion_trafic               0.018653\n",
      "prct_cause_materiel_roulant             0.018818\n",
      "prct_cause_gestion_gare                 0.006908\n",
      "prct_cause_prise_en_charge_voyageurs    0.009344\n",
      "total_retard_mean                       0.677356\n",
      "dtype: float64\n",
      "Total: 0.11066364609392418\n",
      "Average R-squared: 0.16251385962912884\n"
     ]
    }
   ],
   "source": [
    "# predicting\n",
    "y_pred = multioutputregressor.predict(test_df_X)\n",
    "print(np.mean((y_pred - test_df_Y)**2, axis=0))  # 0.004, 0.003, 0.005\n",
    "print(\"Total:\", sum(np.mean((y_pred - test_df_Y)**2, axis=0))/7)\n",
    "\n",
    "# Calculate the R-squared for the MultiOutputRegressor\n",
    "output_r2_scores = []\n",
    "for i in range(test_df_Y.shape[1]):\n",
    "    output_r2_scores.append(r2_score(test_df_Y.iloc[:, i], y_pred[:, i]))\n",
    "\n",
    "average_r2_score = np.mean(output_r2_scores)\n",
    "# Print the R-squared\n",
    "print(\"Average R-squared:\", average_r2_score)"
   ]
  },
  {
   "cell_type": "code",
   "execution_count": 114,
   "metadata": {},
   "outputs": [
    {
     "name": "stdout",
     "output_type": "stream",
     "text": [
      "prct_cause_externe                      0.022984\n",
      "prct_cause_infra                        0.015615\n",
      "prct_cause_gestion_trafic               0.017628\n",
      "prct_cause_materiel_roulant             0.014490\n",
      "prct_cause_gestion_gare                 0.006013\n",
      "prct_cause_prise_en_charge_voyageurs    0.007332\n",
      "total_retard_mean                       1.184476\n",
      "dtype: float64\n",
      "Total: 0.18121994730319987\n",
      "Average R-squared: 0.028975156626309957\n"
     ]
    }
   ],
   "source": [
    "# predicting\n",
    "y_pred = multioutputregressor.predict(validate_df_X)\n",
    "print(np.mean((y_pred - validate_df_Y)**2, axis=0))  # 0.004, 0.003, 0.005\n",
    "print(\"Total:\", sum(np.mean((y_pred - validate_df_Y)**2, axis=0))/7)\n",
    "\n",
    "# Calculate the R-squared for the MultiOutputRegressor\n",
    "output_r2_scores = []\n",
    "for i in range(test_df_Y.shape[1]):\n",
    "    output_r2_scores.append(r2_score(validate_df_Y.iloc[:, i], y_pred[:, i]))\n",
    "\n",
    "average_r2_score = np.mean(output_r2_scores)\n",
    "# Print the R-squared\n",
    "print(\"Average R-squared:\", average_r2_score)"
   ]
  },
  {
   "cell_type": "markdown",
   "metadata": {},
   "source": [
    "#### Grid Search"
   ]
  },
  {
   "cell_type": "code",
   "execution_count": 119,
   "metadata": {},
   "outputs": [
    {
     "data": {
      "text/plain": [
       "XGBRegressor(base_score=None, booster=None, callbacks=None,\n",
       "             colsample_bylevel=None, colsample_bynode=None,\n",
       "             colsample_bytree=0.8, early_stopping_rounds=None,\n",
       "             enable_categorical=False, eval_metric=None, feature_types=None,\n",
       "             gamma=0.1, gpu_id=None, grow_policy=None, importance_type=None,\n",
       "             interaction_constraints=None, learning_rate=0.1, max_bin=None,\n",
       "             max_cat_threshold=None, max_cat_to_onehot=None,\n",
       "             max_delta_step=None, max_depth=7, max_leaves=1, min_child_weight=5,\n",
       "             missing=nan, monotone_constraints=None, n_estimators=100,\n",
       "             n_jobs=None, num_parallel_tree=None, objective='reg:linear',\n",
       "             predictor=None, ...)"
      ]
     },
     "execution_count": 119,
     "metadata": {},
     "output_type": "execute_result"
    }
   ],
   "source": [
    "from sklearn.model_selection import GridSearchCV\n",
    "from sklearn.multioutput import MultiOutputRegressor\n",
    "import xgboost as xgb\n",
    "\n",
    "# define the grid of parameters to try\n",
    "objective = \"reg:linear\"\n",
    "seed = 100\n",
    "n_estimators = 100\n",
    "learning_rate = 0.1\n",
    "gamma = 0.1\n",
    "subsample = 0.8\n",
    "colsample_bytree = 0.8\n",
    "reg_alpha = 1\n",
    "reg_lambda = 1\n",
    "silent = False\n",
    "\n",
    "parameters = {}\n",
    "parameters['objective'] = objective\n",
    "parameters['seed'] = seed\n",
    "parameters['n_estimators'] = n_estimators\n",
    "parameters['learning_rate'] = learning_rate\n",
    "parameters['gamma'] = gamma\n",
    "parameters['colsample_bytree'] = colsample_bytree\n",
    "parameters['reg_alpha'] = reg_alpha\n",
    "parameters['reg_lambda'] = reg_lambda\n",
    "parameters['silent'] = silent\n",
    "\n",
    "scores = []\n",
    "\n",
    "cv_params = {\n",
    "    'max_depth': [5,6,7],\n",
    "    'min_child_weight': [5,7,9],\n",
    "    \"max_leaves\": [1,3,5]\n",
    "}\n",
    "# Set no message\n",
    "xgb.set_config(verbosity=0)\n",
    "# create the MultiOutputRegressor model with XGBRegressor\n",
    "multioutputregressor = MultiOutputRegressor(xgb.XGBRegressor(objective='reg:squarederror'))\n",
    "\n",
    "# create the GridSearchCV object\n",
    "grid_search =  GridSearchCV(xgb.XGBRegressor(\n",
    "                                        objective = objective,\n",
    "                                        seed = seed,\n",
    "                                        n_estimators = n_estimators,\n",
    "                                        learning_rate = learning_rate,\n",
    "                                        gamma = gamma,\n",
    "                                        subsample = subsample,\n",
    "                                        colsample_bytree = colsample_bytree,\n",
    "                                        reg_alpha = reg_alpha,\n",
    "                                        reg_lambda = reg_lambda,\n",
    "                                        silent = silent\n",
    "                                    ),\n",
    "                    \n",
    "                    param_grid = cv_params,\n",
    "                    scoring = \"neg_mean_squared_error\",\n",
    "                    cv = 5,\n",
    "                    verbose = 0\n",
    ")\n",
    "\n",
    "# fit the model\n",
    "grid_search.fit(train_df_X, train_df_Y)\n",
    "\n",
    "\n",
    "# get the best model\n",
    "best_model = grid_search.best_estimator_\n",
    "best_model"
   ]
  },
  {
   "cell_type": "markdown",
   "metadata": {},
   "source": [
    "XGBRegressor(base_score=None, booster=None, callbacks=None,\n",
    "             colsample_bylevel=None, colsample_bynode=None,\n",
    "             colsample_bytree=0.8, early_stopping_rounds=None,\n",
    "             enable_categorical=False, eval_metric=None, feature_types=None,\n",
    "             gamma=0.1, gpu_id=None, grow_policy=None, importance_type=None,\n",
    "             interaction_constraints=None, learning_rate=0.1, max_bin=None,\n",
    "             max_cat_threshold=None, max_cat_to_onehot=None,\n",
    "             max_delta_step=None, max_depth=7, max_leaves=1, min_child_weight=5,\n",
    "             missing=nan, monotone_constraints=None, n_estimators=100,\n",
    "             n_jobs=None, num_parallel_tree=None, objective='reg:linear',\n",
    "             predictor=None, ...)"
   ]
  },
  {
   "cell_type": "code",
   "execution_count": 121,
   "metadata": {},
   "outputs": [
    {
     "name": "stdout",
     "output_type": "stream",
     "text": [
      "prct_cause_externe                      0.024672\n",
      "prct_cause_infra                        0.018405\n",
      "prct_cause_gestion_trafic               0.017564\n",
      "prct_cause_materiel_roulant             0.017023\n",
      "prct_cause_gestion_gare                 0.006271\n",
      "prct_cause_prise_en_charge_voyageurs    0.009178\n",
      "total_retard_mean                       0.641485\n",
      "dtype: float64\n",
      "Total: 0.1049425329239091\n",
      "Average R-squared: 0.20523907081988818\n"
     ]
    }
   ],
   "source": [
    "# predicting\n",
    "y_pred = best_model.predict(test_df_X)\n",
    "print(np.mean((y_pred - test_df_Y)**2, axis=0))  # 0.004, 0.003, 0.005\n",
    "print(\"Total:\", sum(np.mean((y_pred - test_df_Y)**2, axis=0))/7)\n",
    "\n",
    "# Calculate the R-squared for the MultiOutputRegressor\n",
    "output_r2_scores = []\n",
    "for i in range(test_df_Y.shape[1]):\n",
    "    output_r2_scores.append(r2_score(test_df_Y.iloc[:, i], y_pred[:, i]))\n",
    "\n",
    "average_r2_score = np.mean(output_r2_scores)\n",
    "# Print the R-squared\n",
    "print(\"Average R-squared:\", average_r2_score)"
   ]
  },
  {
   "cell_type": "markdown",
   "metadata": {},
   "source": [
    "### Predict both dim reduction"
   ]
  },
  {
   "cell_type": "code",
   "execution_count": 115,
   "metadata": {},
   "outputs": [],
   "source": [
    "import xgboost as xgb\n",
    "import numpy as np\n",
    "from sklearn.metrics import r2_score\n",
    "from sklearn.multioutput import MultiOutputRegressor\n",
    "\n",
    "# Test and Training \n",
    "params = {\"objective\": \"reg:squarederror\", \"tree_method\": \"gpu_hist\"}\n",
    "\n",
    "# Create a MultiOutputRegressor object\n",
    "multioutputregressor = MultiOutputRegressor(xgb.XGBRegressor(objective='reg:squarederror'))\n",
    "\n",
    "# Fit the model to the training data\n",
    "_ = multioutputregressor.fit(train_df_X_dim_r, train_df_Y)"
   ]
  },
  {
   "cell_type": "code",
   "execution_count": 116,
   "metadata": {},
   "outputs": [
    {
     "name": "stdout",
     "output_type": "stream",
     "text": [
      "prct_cause_externe                      0.026398\n",
      "prct_cause_infra                        0.019930\n",
      "prct_cause_gestion_trafic               0.018822\n",
      "prct_cause_materiel_roulant             0.018744\n",
      "prct_cause_gestion_gare                 0.007041\n",
      "prct_cause_prise_en_charge_voyageurs    0.009705\n",
      "total_retard_mean                       0.734763\n",
      "dtype: float64\n",
      "Total: 0.1193434058107113\n",
      "Average R-squared: 0.13241553444962165\n"
     ]
    }
   ],
   "source": [
    "# predicting\n",
    "y_pred = multioutputregressor.predict(test_df_X_dim_r)\n",
    "print(np.mean((y_pred - test_df_Y)**2, axis=0))  # 0.004, 0.003, 0.005\n",
    "print(\"Total:\", sum(np.mean((y_pred - test_df_Y)**2, axis=0))/7)\n",
    "\n",
    "# Calculate the R-squared for the MultiOutputRegressor\n",
    "output_r2_scores = []\n",
    "for i in range(test_df_Y.shape[1]):\n",
    "    output_r2_scores.append(r2_score(test_df_Y.iloc[:, i], y_pred[:, i]))\n",
    "\n",
    "average_r2_score = np.mean(output_r2_scores)\n",
    "# Print the R-squared\n",
    "print(\"Average R-squared:\", average_r2_score)"
   ]
  },
  {
   "cell_type": "markdown",
   "metadata": {},
   "source": [
    "#### Evolution of algorithm in graphs"
   ]
  },
  {
   "cell_type": "code",
   "execution_count": 150,
   "metadata": {},
   "outputs": [],
   "source": [
    "n_estimators = [50, 100, 250,500, 1000]\n",
    "\n",
    "r2_scores_retard_n_estimators = []\n",
    "rmse_scores_retard_n_estimators = []\n",
    "r2_scores_retard_n_estimators_val = []\n",
    "rmse_scores_retard_n_estimators_val = []\n",
    "\n",
    "for estimator in n_estimators: \n",
    "    xgb_model = xgb.XGBRegressor(objective=\"reg:squarederror\", tree_method =\"gpu_hist\",\n",
    "                                 colsample_bytree= 0.5, learning_rate=0.1, max_depth= 4, \n",
    "                                 n_estimators= estimator, subsample= 0.5)\n",
    "    # Fit model\n",
    "    xgb_model.fit(train_df_X_dim_r.replace({True: 1, False: 0}), train_df_Y_retard)\n",
    "    # Predict test\n",
    "    pred_y = xgb_model.predict(test_df_X_dim_r)\n",
    "    \n",
    "    # Calcualte scores\n",
    "    r2 = r2_score(test_df_Y_retard, pred_y)\n",
    "    rmse = mean_squared_error(test_df_Y_retard, pred_y, squared=False)\n",
    "\n",
    "    r2_scores_retard_n_estimators.append(r2)\n",
    "    rmse_scores_retard_n_estimators.append(rmse)\n",
    "\n",
    "    # Predict validation\n",
    "    pred_y = xgb_model.predict(validate_df_X_dim_r)\n",
    "    \n",
    "    # Calcualte scores\n",
    "    r2 = r2_score(validate_df_Y_retard, pred_y)\n",
    "    rmse = mean_squared_error(validate_df_Y_retard, pred_y, squared=False)\n",
    "\n",
    "    r2_scores_retard_n_estimators_val.append(r2)\n",
    "    rmse_scores_retard_n_estimators_val.append(rmse)"
   ]
  },
  {
   "cell_type": "code",
   "execution_count": 151,
   "metadata": {},
   "outputs": [
    {
     "data": {
      "image/png": "[encoded data removed]",
      "text/plain": [
       "<Figure size 720x432 with 2 Axes>"
      ]
     },
     "metadata": {
      "needs_background": "light"
     },
     "output_type": "display_data"
    }
   ],
   "source": [
    "import matplotlib.pyplot as plt\n",
    "\n",
    "plt.figure(figsize=(10,6))\n",
    "font_size = 16\n",
    "\n",
    "# r2 plot\n",
    "plt.subplot(1, 2, 1)\n",
    "plt.plot(n_estimators, r2_scores_retard_n_estimators, marker='o')\n",
    "plt.plot(n_estimators, r2_scores_retard_n_estimators_val, marker='o')\n",
    "plt.xlabel('Number of Trees (n_estimators)', fontsize=font_size)\n",
    "plt.ylabel('R-squared', fontsize=font_size)\n",
    "plt.title('Influence of Number of Trees on R-squared', fontsize=font_size)\n",
    "\n",
    "\n",
    "# mse plot\n",
    "plt.subplot(1, 2, 2)\n",
    "plt.plot(n_estimators, rmse_scores_retard_n_estimators, marker='o')\n",
    "plt.plot(n_estimators, rmse_scores_retard_n_estimators_val, marker='o')\n",
    "plt.xlabel('Number of Trees (n_estimators)', fontsize=font_size)\n",
    "plt.ylabel('RMSE', fontsize=font_size)\n",
    "plt.title('Influence of Number of Trees on RMSE', fontsize=font_size)\n",
    "\n",
    "plt.tight_layout()\n",
    "plt.show()"
   ]
  },
  {
   "cell_type": "code",
   "execution_count": 152,
   "metadata": {},
   "outputs": [],
   "source": [
    "max_depth = [1 ,2,3,4,5,6]\n",
    "\n",
    "r2_scores_retard_max_depth = []\n",
    "rmse_scores_retard_max_depth = []\n",
    "r2_scores_retard_max_depth_val = []\n",
    "rmse_scores_retard_max_depth_val = []\n",
    "\n",
    "for depth in max_depth: \n",
    "    xgb_model = xgb.XGBRegressor(objective=\"reg:squarederror\", tree_method =\"gpu_hist\",\n",
    "                                 colsample_bytree= 0.5, learning_rate=0.1, max_depth=depth , \n",
    "                                 n_estimators= 300, subsample= 0.5)\n",
    "    # Fit model\n",
    "    xgb_model.fit(train_df_X_dim_r.replace({True: 1, False: 0}), train_df_Y_retard)\n",
    "    # Predict\n",
    "    pred_y = xgb_model.predict(test_df_X_dim_r)\n",
    "    \n",
    "    # Calcualte scores\n",
    "    r2 = r2_score(test_df_Y_retard, pred_y)\n",
    "    rmse = mean_squared_error(test_df_Y_retard, pred_y, squared=False)\n",
    "\n",
    "    r2_scores_retard_max_depth.append(r2)\n",
    "    rmse_scores_retard_max_depth.append(rmse)\n",
    "\n",
    "    # Predict\n",
    "    pred_y = xgb_model.predict(validate_df_X_dim_r)\n",
    "    \n",
    "    # Calcualte scores\n",
    "    r2 = r2_score(validate_df_Y_retard, pred_y)\n",
    "    rmse = mean_squared_error(validate_df_Y_retard, pred_y, squared=False)\n",
    "\n",
    "    r2_scores_retard_max_depth_val.append(r2)\n",
    "    rmse_scores_retard_max_depth_val.append(rmse)"
   ]
  },
  {
   "cell_type": "code",
   "execution_count": 153,
   "metadata": {},
   "outputs": [
    {
     "data": {
      "image/png": "[encoded data removed]",
      "text/plain": [
       "<Figure size 720x432 with 2 Axes>"
      ]
     },
     "metadata": {
      "needs_background": "light"
     },
     "output_type": "display_data"
    }
   ],
   "source": [
    "import matplotlib.pyplot as plt\n",
    "\n",
    "plt.figure(figsize=(10,6))\n",
    "# Set the font size for labels and titles\n",
    "font_size = 16\n",
    "\n",
    "# r2 plot\n",
    "plt.subplot(1, 2, 1)\n",
    "plt.plot(max_depth, r2_scores_retard_max_depth, marker='o')\n",
    "plt.plot(max_depth, r2_scores_retard_max_depth_val, marker='o')\n",
    "plt.xlabel('Max Depth of Trees (max_depth)', fontsize=font_size)\n",
    "plt.ylabel('R-squared', fontsize=font_size)\n",
    "plt.title('Influence of maximum depth on R-squared', fontsize=font_size)\n",
    "\n",
    "\n",
    "# mse plot\n",
    "plt.subplot(1, 2, 2)\n",
    "plt.plot(max_depth, rmse_scores_retard_max_depth, marker='o')\n",
    "plt.plot(max_depth, rmse_scores_retard_max_depth_val, marker='o')\n",
    "plt.xlabel('Max Depth of Trees (max_depth)', fontsize=font_size)\n",
    "plt.ylabel('RMSE', fontsize=font_size)\n",
    "plt.title('Influence of maximum depth on RMSE', fontsize=font_size)\n",
    "\n",
    "plt.tight_layout()\n",
    "plt.show()"
   ]
  },
  {
   "cell_type": "code",
   "execution_count": 117,
   "metadata": {},
   "outputs": [
    {
     "name": "stdout",
     "output_type": "stream",
     "text": [
      "prct_cause_externe                      0.020320\n",
      "prct_cause_infra                        0.015704\n",
      "prct_cause_gestion_trafic               0.014819\n",
      "prct_cause_materiel_roulant             0.015804\n",
      "prct_cause_gestion_gare                 0.005685\n",
      "prct_cause_prise_en_charge_voyageurs    0.007477\n",
      "total_retard_mean                       1.129309\n",
      "dtype: float64\n",
      "Total: 0.17273092940153134\n",
      "Average R-squared: 0.0653991647068455\n"
     ]
    }
   ],
   "source": [
    "# predicting\n",
    "y_pred = multioutputregressor.predict(validate_df_X_dim_r)\n",
    "print(np.mean((y_pred - validate_df_Y)**2, axis=0))  # 0.004, 0.003, 0.005\n",
    "print(\"Total:\", sum(np.mean((y_pred - validate_df_Y)**2, axis=0))/7)\n",
    "\n",
    "# Calculate the R-squared for the MultiOutputRegressor\n",
    "output_r2_scores = []\n",
    "for i in range(test_df_Y.shape[1]):\n",
    "    output_r2_scores.append(r2_score(validate_df_Y.iloc[:, i], y_pred[:, i]))\n",
    "\n",
    "average_r2_score = np.mean(output_r2_scores)\n",
    "# Print the R-squared\n",
    "print(\"Average R-squared:\", average_r2_score)"
   ]
  }
 ],
 "metadata": {
  "kernelspec": {
   "display_name": "Python 3",
   "language": "python",
   "name": "python3"
  },
  "language_info": {
   "codemirror_mode": {
    "name": "ipython",
    "version": 3
   },
   "file_extension": ".py",
   "mimetype": "text/x-python",
   "name": "python",
   "nbconvert_exporter": "python",
   "pygments_lexer": "ipython3",
   "version": "3.8.10"
  }
 },
 "nbformat": 4,
 "nbformat_minor": 2
}
